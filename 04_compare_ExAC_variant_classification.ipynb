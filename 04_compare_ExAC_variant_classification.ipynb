{
 "cells": [
  {
   "cell_type": "code",
   "execution_count": 1,
   "metadata": {
    "collapsed": false,
    "deletable": true,
    "editable": true,
    "run_control": {
     "frozen": false,
     "read_only": false
    }
   },
   "outputs": [],
   "source": [
    "%load_ext autoreload\n",
    "%autoreload 2"
   ]
  },
  {
   "cell_type": "code",
   "execution_count": 2,
   "metadata": {
    "collapsed": true,
    "deletable": true,
    "editable": true,
    "run_control": {
     "frozen": false,
     "read_only": false
    }
   },
   "outputs": [],
   "source": [
    "%matplotlib inline"
   ]
  },
  {
   "cell_type": "code",
   "execution_count": 3,
   "metadata": {
    "collapsed": true,
    "deletable": true,
    "editable": true,
    "run_control": {
     "frozen": false,
     "read_only": false
    }
   },
   "outputs": [],
   "source": [
    "import pandas as pd\n",
    "import numpy as np\n",
    "import matplotlib.pyplot as plt\n",
    "import seaborn as sns\n",
    "import scipy.stats as st\n",
    "from sklearn.metrics import matthews_corrcoef\n",
    "from matplotlib_venn import venn2"
   ]
  },
  {
   "cell_type": "code",
   "execution_count": 4,
   "metadata": {
    "collapsed": true,
    "deletable": true,
    "editable": true,
    "run_control": {
     "frozen": false,
     "read_only": false
    }
   },
   "outputs": [],
   "source": [
    "import glob"
   ]
  },
  {
   "cell_type": "code",
   "execution_count": 5,
   "metadata": {
    "collapsed": false,
    "deletable": true,
    "editable": true,
    "run_control": {
     "frozen": false,
     "read_only": false
    }
   },
   "outputs": [],
   "source": [
    "pd.options.display.max_columns = 999\n",
    "pd.options.display.max_rows = 100\n",
    "pd.set_option('display.max_colwidth', 200)\n",
    "sns.set_context(\"paper\")\n",
    "sns.set(font_scale=1.5, font='Arial')"
   ]
  },
  {
   "cell_type": "code",
   "execution_count": 6,
   "metadata": {
    "collapsed": true,
    "deletable": true,
    "editable": true,
    "run_control": {
     "frozen": false,
     "read_only": false
    }
   },
   "outputs": [],
   "source": [
    "SUPPLEMENT_PATH = \"./supp_data/\"\n",
    "RAW_FIGURE_PATH = \"./raw_figure/\""
   ]
  },
  {
   "cell_type": "code",
   "execution_count": 24,
   "metadata": {
    "collapsed": true,
    "deletable": true,
    "editable": true,
    "run_control": {
     "frozen": false,
     "read_only": false
    }
   },
   "outputs": [],
   "source": [
    "VARIANTS = \"./data/ExACr0.3.sites.vep.vcf.filtered.tsv\"\n",
    "GENES = \"./data/genes.txt\"\n",
    "PGX_GENES = \"/Users/schaerfe/Documents/Privat/Dropbox/Charlotta_MyDrug_paper_material/Manuscript/Re-SubmissionGMed/Supplementary_Tables2-7.xlsx\"\n",
    "CADD_FILE = \"/Users/schaerfe/Documents/Privat/Dropbox/Charlotta_MyDrug_paper_material/Misc/ExAC_r0.3_inclAnno_pgx.tsv\"\n",
    "EVMUTATION_DIR = \"/Users/schaerfe/Documents/Privat/Dropbox/drugs/midrug_data/midrug_graphs/effects/\"\n"
   ]
  },
  {
   "cell_type": "code",
   "execution_count": 8,
   "metadata": {
    "collapsed": true,
    "deletable": true,
    "editable": true,
    "run_control": {
     "frozen": false,
     "read_only": false
    }
   },
   "outputs": [],
   "source": [
    "# POPS = [\"AFR\", \"AMR\", \"SAS\", \"EAS\", \"NFE\", \"FIN\"]\n",
    "# COLOR_MAPPING = {\"Target\": \"#A6002C\", \"target\": \"#A6002C\", \"Target genes\": \"#A6002C\",\n",
    "#                  \"ADME\": \"#6C226C\", 'other ADME genes': \"#6C226C\",\n",
    "#                  \"Cytochrome\": \"#2A3FA6\", 'Cytochrome P450s': \"#2A3FA6\",\n",
    "#                  \"All genes\": \"grey\"}"
   ]
  },
  {
   "cell_type": "markdown",
   "metadata": {
    "deletable": true,
    "editable": true
   },
   "source": [
    "# Load ExAC variants"
   ]
  },
  {
   "cell_type": "code",
   "execution_count": 9,
   "metadata": {
    "collapsed": false,
    "deletable": true,
    "editable": true,
    "run_control": {
     "frozen": false,
     "read_only": false
    }
   },
   "outputs": [
    {
     "name": "stderr",
     "output_type": "stream",
     "text": [
      "/Users/schaerfe/Documents/Privat/Dropbox/anaconda/lib/python2.7/site-packages/IPython/core/interactiveshell.py:2717: DtypeWarning: Columns (1,81,82,83,84,85,95,97,98,100,101,102,103,104,106,114,115,116,121,122,123,124) have mixed types. Specify dtype option on import or set low_memory=False.\n",
      "  interactivity=interactivity, compiler=compiler, result=result)\n"
     ]
    }
   ],
   "source": [
    "variants = pd.read_csv(\"supp_data/variants_for_paper.txt\", sep=\"\\t\")\n",
    "variants.columns = [c.replace('CSQ.', '').replace('INFO.', '') for c in variants.columns]"
   ]
  },
  {
   "cell_type": "code",
   "execution_count": 10,
   "metadata": {
    "collapsed": false,
    "deletable": true,
    "editable": true,
    "run_control": {
     "frozen": false,
     "read_only": false
    }
   },
   "outputs": [
    {
     "data": {
      "text/plain": [
       "6864326"
      ]
     },
     "execution_count": 10,
     "metadata": {},
     "output_type": "execute_result"
    }
   ],
   "source": [
    "len(variants)"
   ]
  },
  {
   "cell_type": "code",
   "execution_count": 11,
   "metadata": {
    "collapsed": false,
    "deletable": true,
    "editable": true,
    "run_control": {
     "frozen": false,
     "read_only": false
    }
   },
   "outputs": [
    {
     "data": {
      "text/plain": [
       "6864326"
      ]
     },
     "execution_count": 11,
     "metadata": {},
     "output_type": "execute_result"
    }
   ],
   "source": [
    "len(variants)"
   ]
  },
  {
   "cell_type": "markdown",
   "metadata": {
    "deletable": true,
    "editable": true
   },
   "source": [
    "# Load gene info"
   ]
  },
  {
   "cell_type": "code",
   "execution_count": 12,
   "metadata": {
    "collapsed": false,
    "deletable": true,
    "editable": true,
    "run_control": {
     "frozen": false,
     "read_only": false
    }
   },
   "outputs": [
    {
     "name": "stderr",
     "output_type": "stream",
     "text": [
      "/Users/schaerfe/Documents/Privat/Dropbox/anaconda/lib/python2.7/site-packages/IPython/core/interactiveshell.py:2717: DtypeWarning: Columns (13,19,20,21,22,23,24,26,27,28,29,30,31,32,33,34,35,36,37,38,40,41) have mixed types. Specify dtype option on import or set low_memory=False.\n",
      "  interactivity=interactivity, compiler=compiler, result=result)\n"
     ]
    }
   ],
   "source": [
    "genes = pd.read_csv(GENES, sep=\"\\t\", comment=\"#\")"
   ]
  },
  {
   "cell_type": "markdown",
   "metadata": {
    "deletable": true,
    "editable": true
   },
   "source": [
    "## Load genes analysed in paper"
   ]
  },
  {
   "cell_type": "code",
   "execution_count": 13,
   "metadata": {
    "collapsed": false,
    "deletable": true,
    "editable": true,
    "run_control": {
     "frozen": false,
     "read_only": false
    }
   },
   "outputs": [],
   "source": [
    "pgx_genes = pd.read_excel(PGX_GENES, sheetname=\"Supplemantal Table 2 - CAP\")"
   ]
  },
  {
   "cell_type": "code",
   "execution_count": 14,
   "metadata": {
    "collapsed": false,
    "deletable": true,
    "editable": true,
    "run_control": {
     "frozen": false,
     "read_only": false
    }
   },
   "outputs": [
    {
     "data": {
      "text/plain": [
       "806"
      ]
     },
     "execution_count": 14,
     "metadata": {},
     "output_type": "execute_result"
    }
   ],
   "source": [
    "len(pgx_genes)"
   ]
  },
  {
   "cell_type": "markdown",
   "metadata": {
    "deletable": true,
    "editable": true
   },
   "source": [
    "## Filter variants to those in genes from paper"
   ]
  },
  {
   "cell_type": "code",
   "execution_count": 15,
   "metadata": {
    "collapsed": false,
    "deletable": true,
    "editable": true,
    "run_control": {
     "frozen": false,
     "read_only": false
    }
   },
   "outputs": [],
   "source": [
    "variants_druggenes = variants.loc[variants.HGNC_ID.isin(pgx_genes[\"HGNC ID\"].tolist())]"
   ]
  },
  {
   "cell_type": "code",
   "execution_count": 16,
   "metadata": {
    "collapsed": false,
    "deletable": true,
    "editable": true,
    "run_control": {
     "frozen": false,
     "read_only": false
    }
   },
   "outputs": [
    {
     "data": {
      "text/plain": [
       "334397"
      ]
     },
     "execution_count": 16,
     "metadata": {},
     "output_type": "execute_result"
    }
   ],
   "source": [
    "len(variants_druggenes)"
   ]
  },
  {
   "cell_type": "markdown",
   "metadata": {
    "deletable": true,
    "editable": true
   },
   "source": [
    "## Load genes with EVmutation predictions"
   ]
  },
  {
   "cell_type": "code",
   "execution_count": 31,
   "metadata": {
    "collapsed": false,
    "deletable": true,
    "editable": true,
    "run_control": {
     "frozen": false,
     "read_only": false
    }
   },
   "outputs": [],
   "source": [
    "modeled_proteins = set([f.replace(EVMUTATION_DIR, \"\").split(\"_\")[0].split(\"-\")[0] for f in glob.glob(EVMUTATION_DIR + \"*.csv\")])\n"
   ]
  },
  {
   "cell_type": "code",
   "execution_count": 33,
   "metadata": {
    "collapsed": false,
    "deletable": true,
    "editable": true,
    "run_control": {
     "frozen": false,
     "read_only": false
    }
   },
   "outputs": [],
   "source": [
    "modeled_genes = genes.loc[genes.uniprot_ids.isin(modeled_proteins)]"
   ]
  },
  {
   "cell_type": "code",
   "execution_count": 34,
   "metadata": {
    "collapsed": false,
    "deletable": true,
    "editable": true,
    "run_control": {
     "frozen": false,
     "read_only": false
    }
   },
   "outputs": [
    {
     "data": {
      "text/plain": [
       "6718"
      ]
     },
     "execution_count": 34,
     "metadata": {},
     "output_type": "execute_result"
    }
   ],
   "source": [
    "len(modeled_genes)"
   ]
  },
  {
   "cell_type": "markdown",
   "metadata": {
    "deletable": true,
    "editable": true
   },
   "source": [
    "## Intersect with proteins for which EVmutation scores have been computed"
   ]
  },
  {
   "cell_type": "code",
   "execution_count": 36,
   "metadata": {
    "collapsed": false,
    "deletable": true,
    "editable": true,
    "run_control": {
     "frozen": false,
     "read_only": false
    }
   },
   "outputs": [
    {
     "data": {
      "text/plain": [
       "(806, 545)"
      ]
     },
     "execution_count": 36,
     "metadata": {},
     "output_type": "execute_result"
    }
   ],
   "source": [
    "len(pgx_genes), len(modeled_genes.loc[modeled_genes.hgnc_id.isin(pgx_genes[\"HGNC ID\"])])"
   ]
  },
  {
   "cell_type": "code",
   "execution_count": 37,
   "metadata": {
    "collapsed": true,
    "deletable": true,
    "editable": true,
    "run_control": {
     "frozen": false,
     "read_only": false
    }
   },
   "outputs": [],
   "source": [
    "modeled_pgx_genes = modeled_genes.loc[modeled_genes.hgnc_id.isin(pgx_genes[\"HGNC ID\"])]"
   ]
  },
  {
   "cell_type": "markdown",
   "metadata": {
    "deletable": true,
    "editable": true
   },
   "source": [
    "## Filter drug-related variants to those in genes with EVmutation prediction"
   ]
  },
  {
   "cell_type": "code",
   "execution_count": 38,
   "metadata": {
    "collapsed": true,
    "deletable": true,
    "editable": true,
    "run_control": {
     "frozen": false,
     "read_only": false
    }
   },
   "outputs": [],
   "source": [
    "variants_modeled_genes = variants_druggenes.loc[variants_druggenes.HGNC_ID.isin(modeled_genes.hgnc_id.tolist())]"
   ]
  },
  {
   "cell_type": "code",
   "execution_count": 39,
   "metadata": {
    "collapsed": false,
    "deletable": true,
    "editable": true,
    "run_control": {
     "frozen": false,
     "read_only": false
    }
   },
   "outputs": [
    {
     "data": {
      "text/plain": [
       "243007"
      ]
     },
     "execution_count": 39,
     "metadata": {},
     "output_type": "execute_result"
    }
   ],
   "source": [
    "len(variants_modeled_genes)"
   ]
  },
  {
   "cell_type": "markdown",
   "metadata": {
    "deletable": true,
    "editable": true
   },
   "source": [
    "## Filter variants to SNPs with effect on protein sequence"
   ]
  },
  {
   "cell_type": "code",
   "execution_count": 40,
   "metadata": {
    "collapsed": false,
    "deletable": true,
    "editable": true,
    "run_control": {
     "frozen": false,
     "read_only": false
    }
   },
   "outputs": [],
   "source": [
    "variants_modeled_genes = variants_modeled_genes.dropna(subset=[\"Protein_position\", \"Amino_acids\"])"
   ]
  },
  {
   "cell_type": "code",
   "execution_count": 41,
   "metadata": {
    "collapsed": false,
    "deletable": true,
    "editable": true,
    "run_control": {
     "frozen": false,
     "read_only": false
    }
   },
   "outputs": [
    {
     "data": {
      "text/plain": [
       "116580"
      ]
     },
     "execution_count": 41,
     "metadata": {},
     "output_type": "execute_result"
    }
   ],
   "source": [
    "len(variants_modeled_genes)"
   ]
  },
  {
   "cell_type": "markdown",
   "metadata": {
    "deletable": true,
    "editable": true
   },
   "source": [
    "## Split SIFT and PolyPhen predictions into multiple columns"
   ]
  },
  {
   "cell_type": "code",
   "execution_count": 42,
   "metadata": {
    "collapsed": false,
    "deletable": true,
    "editable": true,
    "run_control": {
     "frozen": false,
     "read_only": false
    }
   },
   "outputs": [
    {
     "name": "stderr",
     "output_type": "stream",
     "text": [
      "/Users/schaerfe/Documents/Privat/Dropbox/anaconda/lib/python2.7/site-packages/ipykernel/__main__.py:2: FutureWarning: currently extract(expand=None) means expand=False (return Index/Series/DataFrame) but in a future version of pandas this will be changed to expand=True (return DataFrame)\n",
      "  from ipykernel import kernelapp as app\n",
      "/Users/schaerfe/Documents/Privat/Dropbox/anaconda/lib/python2.7/site-packages/ipykernel/__main__.py:4: FutureWarning: currently extract(expand=None) means expand=False (return Index/Series/DataFrame) but in a future version of pandas this will be changed to expand=True (return DataFrame)\n"
     ]
    }
   ],
   "source": [
    "variants_modeled_genes = variants_modeled_genes.join(\n",
    "    pd.DataFrame(variants_modeled_genes[\"SIFT\"].str.extract('([a-z]*)\\((.*)\\)')).rename(columns={0:\"SIFT_class\", 1:\"SIFT_score\"}))\\\n",
    "    .join(\n",
    "    pd.DataFrame(variants_modeled_genes[\"PolyPhen\"].str.extract('([a-z_]*)\\((.*)\\)')).rename(columns={0:\"PolyPhen_class\", 1:\"PolyPhen_score\"}))"
   ]
  },
  {
   "cell_type": "markdown",
   "metadata": {
    "deletable": true,
    "editable": true
   },
   "source": [
    "## Split amino acid effect column into wt and mutation"
   ]
  },
  {
   "cell_type": "code",
   "execution_count": 43,
   "metadata": {
    "collapsed": false,
    "deletable": true,
    "editable": true,
    "run_control": {
     "frozen": false,
     "read_only": false
    }
   },
   "outputs": [
    {
     "name": "stderr",
     "output_type": "stream",
     "text": [
      "/Users/schaerfe/Documents/Privat/Dropbox/anaconda/lib/python2.7/site-packages/ipykernel/__main__.py:2: FutureWarning: currently extract(expand=None) means expand=False (return Index/Series/DataFrame) but in a future version of pandas this will be changed to expand=True (return DataFrame)\n",
      "  from ipykernel import kernelapp as app\n"
     ]
    }
   ],
   "source": [
    "variants_modeled_genes = variants_modeled_genes.join(\n",
    "    pd.DataFrame(variants_modeled_genes[\"Amino_acids\"].str.extract('([A-Z]*)/([A-Z]*)')).rename(columns={0:\"wt\", 1:\"mut\"}))"
   ]
  },
  {
   "cell_type": "code",
   "execution_count": 44,
   "metadata": {
    "collapsed": false,
    "deletable": true,
    "editable": true,
    "run_control": {
     "frozen": false,
     "read_only": false
    }
   },
   "outputs": [],
   "source": [
    "variants_modeled_genes = variants_modeled_genes.merge(genes[[\"hgnc_id\", \"uniprot_ids\", \"entry_name\"]] , left_on=\"HGNC_ID\", right_on=\"hgnc_id\")"
   ]
  },
  {
   "cell_type": "markdown",
   "metadata": {
    "deletable": true,
    "editable": true
   },
   "source": [
    "# Import EVmutation predictions"
   ]
  },
  {
   "cell_type": "code",
   "execution_count": 46,
   "metadata": {
    "collapsed": true,
    "deletable": true,
    "editable": true,
    "run_control": {
     "frozen": false,
     "read_only": false
    }
   },
   "outputs": [],
   "source": [
    "predictions = []\n",
    "for f in glob.glob(EVMUTATION_DIR + \"*.csv\"):\n",
    "    protein = f.replace(EVMUTATION_DIR, \"\").split(\"_\")[0].split(\"-\")[0]\n",
    "    if protein not in modeled_pgx_genes.uniprot_ids.unique():\n",
    "        continue\n",
    "    prediction = pd.read_csv(f, sep=\";\")\n",
    "    # exclude wild type scores\n",
    "    prediction = prediction.loc[prediction.wt != prediction.subs]\n",
    "    prediction[\"prediction_epistatic_z\"] = st.zscore(prediction[\"prediction_epistatic\"])\n",
    "    prediction[\"prediction_independent_z\"] = st.zscore(prediction[\"prediction_independent\"])\n",
    "    prediction[\"protein\"] = protein\n",
    "    predictions.append(prediction)"
   ]
  },
  {
   "cell_type": "markdown",
   "metadata": {
    "deletable": true,
    "editable": true
   },
   "source": [
    "## Combine all predictions into one DataFrame"
   ]
  },
  {
   "cell_type": "code",
   "execution_count": 47,
   "metadata": {
    "collapsed": false,
    "deletable": true,
    "editable": true,
    "run_control": {
     "frozen": false,
     "read_only": false
    }
   },
   "outputs": [],
   "source": [
    "evmutation_predictions = pd.concat(predictions)"
   ]
  },
  {
   "cell_type": "markdown",
   "metadata": {
    "deletable": true,
    "editable": true
   },
   "source": [
    "## Plot score distribution"
   ]
  },
  {
   "cell_type": "code",
   "execution_count": 48,
   "metadata": {
    "collapsed": false,
    "deletable": true,
    "editable": true,
    "run_control": {
     "frozen": false,
     "read_only": false
    }
   },
   "outputs": [
    {
     "data": {
      "image/png": "[encoded data removed]",
      "text/plain": [
       "<matplotlib.figure.Figure at 0x11702d890>"
      ]
     },
     "metadata": {},
     "output_type": "display_data"
    }
   ],
   "source": [
    "with sns.axes_style(\"white\"):\n",
    "    fig, ax = plt.subplots(1, 1)\n",
    "    # evmutation_predictions[\"prediction_epistatic_z\"].plot.density(ax=ax)\n",
    "    evmutation_predictions[\"prediction_epistatic_z\"].plot.density(ax=ax)\n",
    "    ax.set_xlabel(\"z-score\")\n",
    "    ax.axvline(x=0, linewidth=2, color='r', linestyle='--')\n",
    "    # ax.axvline(x=1, linewidth=2, color='r', linestyle='--')"
   ]
  },
  {
   "cell_type": "markdown",
   "metadata": {
    "deletable": true,
    "editable": true
   },
   "source": [
    "# Merge evmutation predictions to drug-related variants"
   ]
  },
  {
   "cell_type": "markdown",
   "metadata": {
    "deletable": true,
    "editable": true
   },
   "source": [
    "## Exclude variants in which more than one protein position is affected"
   ]
  },
  {
   "cell_type": "code",
   "execution_count": 49,
   "metadata": {
    "collapsed": false,
    "deletable": true,
    "editable": true,
    "run_control": {
     "frozen": false,
     "read_only": false
    }
   },
   "outputs": [],
   "source": [
    "variants_modeled_genes2 = variants_modeled_genes.loc[~variants_modeled_genes[\"Protein_position\"].str.contains(\"-\")]"
   ]
  },
  {
   "cell_type": "code",
   "execution_count": 50,
   "metadata": {
    "collapsed": false,
    "deletable": true,
    "editable": true,
    "run_control": {
     "frozen": false,
     "read_only": false
    }
   },
   "outputs": [
    {
     "data": {
      "text/plain": [
       "114925"
      ]
     },
     "execution_count": 50,
     "metadata": {},
     "output_type": "execute_result"
    }
   ],
   "source": [
    "len(variants_modeled_genes2)"
   ]
  },
  {
   "cell_type": "markdown",
   "metadata": {
    "deletable": true,
    "editable": true
   },
   "source": [
    "## Convert protein position column to numeric"
   ]
  },
  {
   "cell_type": "code",
   "execution_count": 51,
   "metadata": {
    "collapsed": false,
    "deletable": true,
    "editable": true,
    "run_control": {
     "frozen": false,
     "read_only": false
    }
   },
   "outputs": [
    {
     "name": "stderr",
     "output_type": "stream",
     "text": [
      "/Users/schaerfe/Documents/Privat/Dropbox/anaconda/lib/python2.7/site-packages/ipykernel/__main__.py:1: SettingWithCopyWarning: \n",
      "A value is trying to be set on a copy of a slice from a DataFrame.\n",
      "Try using .loc[row_indexer,col_indexer] = value instead\n",
      "\n",
      "See the caveats in the documentation: http://pandas.pydata.org/pandas-docs/stable/indexing.html#indexing-view-versus-copy\n",
      "  if __name__ == '__main__':\n"
     ]
    }
   ],
   "source": [
    "variants_modeled_genes2[\"Protein_position\"] = pd.to_numeric(variants_modeled_genes2[\"Protein_position\"])"
   ]
  },
  {
   "cell_type": "markdown",
   "metadata": {
    "deletable": true,
    "editable": true
   },
   "source": [
    "## Merge variant data with evmutation scores"
   ]
  },
  {
   "cell_type": "code",
   "execution_count": 55,
   "metadata": {
    "collapsed": false,
    "deletable": true,
    "editable": true,
    "run_control": {
     "frozen": false,
     "read_only": false
    }
   },
   "outputs": [],
   "source": [
    "variants_predicted = variants_modeled_genes2.merge(evmutation_predictions,\n",
    "                                                   left_on=[\"uniprot_ids\", \"Protein_position\", \"wt\", \"mut\"],\n",
    "                                                   right_on=[\"protein\", \"pos\", \"wt\", \"subs\"])"
   ]
  },
  {
   "cell_type": "code",
   "execution_count": 56,
   "metadata": {
    "collapsed": false,
    "deletable": true,
    "editable": true,
    "run_control": {
     "frozen": false,
     "read_only": false
    }
   },
   "outputs": [
    {
     "data": {
      "text/plain": [
       "52328"
      ]
     },
     "execution_count": 56,
     "metadata": {},
     "output_type": "execute_result"
    }
   ],
   "source": [
    "len(variants_predicted)"
   ]
  },
  {
   "cell_type": "code",
   "execution_count": 57,
   "metadata": {
    "collapsed": true,
    "deletable": true,
    "editable": true,
    "run_control": {
     "frozen": false,
     "read_only": false
    }
   },
   "outputs": [],
   "source": [
    "variants_predicted[\"SIFT_score\"] = pd.to_numeric(variants_predicted[\"SIFT_score\"])\n",
    "variants_predicted[\"PolyPhen_score\"] = pd.to_numeric(variants_predicted[\"PolyPhen_score\"])"
   ]
  },
  {
   "cell_type": "code",
   "execution_count": 58,
   "metadata": {
    "collapsed": false,
    "deletable": true,
    "editable": true,
    "run_control": {
     "frozen": false,
     "read_only": false
    }
   },
   "outputs": [
    {
     "data": {
      "text/html": [
       "<div>\n",
       "<table border=\"1\" class=\"dataframe\">\n",
       "  <thead>\n",
       "    <tr style=\"text-align: right;\">\n",
       "      <th></th>\n",
       "      <th>PolyPhen_score</th>\n",
       "      <th>SIFT_score</th>\n",
       "      <th>prediction_epistatic_z</th>\n",
       "      <th>prediction_independent_z</th>\n",
       "    </tr>\n",
       "  </thead>\n",
       "  <tbody>\n",
       "    <tr>\n",
       "      <th>PolyPhen_score</th>\n",
       "      <td>1.000000</td>\n",
       "      <td>-0.541918</td>\n",
       "      <td>-0.661422</td>\n",
       "      <td>-0.502883</td>\n",
       "    </tr>\n",
       "    <tr>\n",
       "      <th>SIFT_score</th>\n",
       "      <td>-0.541918</td>\n",
       "      <td>1.000000</td>\n",
       "      <td>0.624969</td>\n",
       "      <td>0.472349</td>\n",
       "    </tr>\n",
       "    <tr>\n",
       "      <th>prediction_epistatic_z</th>\n",
       "      <td>-0.661422</td>\n",
       "      <td>0.624969</td>\n",
       "      <td>1.000000</td>\n",
       "      <td>0.767380</td>\n",
       "    </tr>\n",
       "    <tr>\n",
       "      <th>prediction_independent_z</th>\n",
       "      <td>-0.502883</td>\n",
       "      <td>0.472349</td>\n",
       "      <td>0.767380</td>\n",
       "      <td>1.000000</td>\n",
       "    </tr>\n",
       "  </tbody>\n",
       "</table>\n",
       "</div>"
      ],
      "text/plain": [
       "                          PolyPhen_score  SIFT_score  prediction_epistatic_z  \\\n",
       "PolyPhen_score                  1.000000   -0.541918               -0.661422   \n",
       "SIFT_score                     -0.541918    1.000000                0.624969   \n",
       "prediction_epistatic_z         -0.661422    0.624969                1.000000   \n",
       "prediction_independent_z       -0.502883    0.472349                0.767380   \n",
       "\n",
       "                          prediction_independent_z  \n",
       "PolyPhen_score                           -0.502883  \n",
       "SIFT_score                                0.472349  \n",
       "prediction_epistatic_z                    0.767380  \n",
       "prediction_independent_z                  1.000000  "
      ]
     },
     "execution_count": 58,
     "metadata": {},
     "output_type": "execute_result"
    }
   ],
   "source": [
    "variants_predicted[[\"PolyPhen_score\", \"SIFT_score\", \"prediction_epistatic_z\", \"prediction_independent_z\"]].corr()"
   ]
  },
  {
   "cell_type": "markdown",
   "metadata": {
    "deletable": true,
    "editable": true
   },
   "source": [
    "# Binary classification based on z-score thresholds"
   ]
  },
  {
   "cell_type": "code",
   "execution_count": 59,
   "metadata": {
    "collapsed": false,
    "deletable": true,
    "editable": true,
    "run_control": {
     "frozen": false,
     "read_only": false
    }
   },
   "outputs": [],
   "source": [
    "both = variants_predicted.loc[(variants_predicted.PolyPhen.str.contains(\"damaging\", na=False)) &\n",
    "                              (variants_predicted.SIFT.str.contains(\"deleterious\", na=False))]\n",
    "poly_lc = variants_predicted.loc[(variants_predicted.PolyPhen.str.contains(\"possibly_damaging\", na=False)) &\n",
    "                              (~variants_predicted.SIFT.str.contains(\"deleterious\", na=False))]\n",
    "poly_hc = variants_predicted.loc[(variants_predicted.PolyPhen.str.contains(\"probably_damaging\", na=False)) &\n",
    "                                 (~variants_predicted.SIFT.str.contains(\"deleterious\", na=False))]\n",
    "poly = variants_predicted.loc[(variants_predicted.PolyPhen.str.contains(\"damaging\", na=False)) &\n",
    "                                 (~variants_predicted.SIFT.str.contains(\"deleterious\", na=False))]\n",
    "sift = variants_predicted.loc[(~variants_predicted.PolyPhen.str.contains(\"damaging\", na=False)) &\n",
    "                              (variants_predicted.SIFT.str.contains(\"deleterious\", na=False))]\n",
    "no = variants_predicted.loc[(~variants_predicted.PolyPhen.str.contains(\"damaging\", na=False)) &\n",
    "                            (~variants_predicted.SIFT.str.contains(\"deleterious\", na=False))]"
   ]
  },
  {
   "cell_type": "markdown",
   "metadata": {
    "deletable": true,
    "editable": true
   },
   "source": [
    "## Plot score distribution of EVmutation scores of ExAC variants in drug-related genes depending on PolyPhen&SIFT classification"
   ]
  },
  {
   "cell_type": "code",
   "execution_count": 60,
   "metadata": {
    "collapsed": false,
    "deletable": true,
    "editable": true,
    "run_control": {
     "frozen": false,
     "read_only": false
    }
   },
   "outputs": [
    {
     "data": {
      "image/png": "[encoded data removed]",
      "text/plain": [
       "<matplotlib.figure.Figure at 0x11ca91910>"
      ]
     },
     "metadata": {},
     "output_type": "display_data"
    }
   ],
   "source": [
    "with sns.axes_style(\"white\"):\n",
    "    fig, ax = plt.subplots(1, 1, figsize=(10, 5))\n",
    "    variants_predicted[\"prediction_epistatic_z\"].plot.density(ax=ax, label=\"all variants\")\n",
    "    both[\"prediction_epistatic_z\"].plot.density(ax=ax, label=\"sift & polyphen deleterious\")\n",
    "    poly[\"prediction_epistatic_z\"].plot.density(ax=ax, label=\"polyphen only deleterious\")\n",
    "    sift[\"prediction_epistatic_z\"].plot.density(ax=ax, label=\"sift only deleterious\")\n",
    "    no[\"prediction_epistatic_z\"].plot.density(ax=ax, label=\"neither deleterious\")\n",
    "    ax.set_xlabel(\"z-score\")\n",
    "    ax.axvline(linewidth=1, color='green', linestyle='--')\n",
    "    ax.axvline(x=0.5, linewidth=1, color='r', linestyle='--')\n",
    "    ax.legend()"
   ]
  },
  {
   "cell_type": "code",
   "execution_count": 61,
   "metadata": {
    "collapsed": false,
    "deletable": true,
    "editable": true,
    "run_control": {
     "frozen": false,
     "read_only": false
    }
   },
   "outputs": [
    {
     "data": {
      "text/plain": [
       "SkewtestResult(statistic=13.671552492960645, pvalue=1.5015699071041702e-42)"
      ]
     },
     "execution_count": 61,
     "metadata": {},
     "output_type": "execute_result"
    }
   ],
   "source": [
    "st.skewtest(variants_predicted[\"prediction_epistatic\"])"
   ]
  },
  {
   "cell_type": "markdown",
   "metadata": {
    "deletable": true,
    "editable": true
   },
   "source": [
    "## Overlap between SIFT&PolyPhen deleterious and EVmutation z-score < 0.5"
   ]
  },
  {
   "cell_type": "code",
   "execution_count": 62,
   "metadata": {
    "collapsed": true,
    "deletable": true,
    "editable": true,
    "run_control": {
     "frozen": false,
     "read_only": false
    }
   },
   "outputs": [],
   "source": [
    "evmutation_delet = variants_predicted.loc[variants_predicted.prediction_epistatic_z <= 0.5]"
   ]
  },
  {
   "cell_type": "code",
   "execution_count": 63,
   "metadata": {
    "collapsed": false,
    "deletable": true,
    "editable": true,
    "run_control": {
     "frozen": false,
     "read_only": false
    }
   },
   "outputs": [],
   "source": [
    "b = len(set(both.var_uid.tolist()) & set(evmutation_delet.var_uid.tolist()))\n",
    "p = len(set(both.var_uid.tolist()) - set(evmutation_delet.var_uid.tolist()))\n",
    "e = len(set(evmutation_delet.var_uid.tolist()) - set(both.var_uid.tolist()))"
   ]
  },
  {
   "cell_type": "code",
   "execution_count": 67,
   "metadata": {
    "collapsed": false,
    "deletable": true,
    "editable": true,
    "run_control": {
     "frozen": false,
     "read_only": false
    }
   },
   "outputs": [
    {
     "data": {
      "image/png": "[encoded data removed]",
      "text/plain": [
       "<matplotlib.figure.Figure at 0x1668b3ad0>"
      ]
     },
     "metadata": {},
     "output_type": "display_data"
    }
   ],
   "source": [
    "venn2(subsets = (p, e, b), set_labels = ('SIFT & PolyPhen\\ndeleterious', 'EVmutation\\nat z<= 0.5'),\n",
    "      set_colors=('yellow', 'blue'))\n",
    "plt.ylabel(\"\");\n",
    "plt.savefig(RAW_FIGURE_PATH + \"overlap_SIFTPolyPhen_EVmutation.pdf\", dpi=300)"
   ]
  },
  {
   "cell_type": "code",
   "execution_count": null,
   "metadata": {
    "collapsed": true
   },
   "outputs": [],
   "source": []
  },
  {
   "cell_type": "markdown",
   "metadata": {
    "deletable": true,
    "editable": true
   },
   "source": [
    "# Include CADD scores for variants"
   ]
  },
  {
   "cell_type": "markdown",
   "metadata": {
    "deletable": true,
    "editable": true
   },
   "source": [
    "## Import CADD scores"
   ]
  },
  {
   "cell_type": "code",
   "execution_count": null,
   "metadata": {
    "collapsed": false,
    "deletable": true,
    "editable": true,
    "run_control": {
     "frozen": false,
     "read_only": false
    }
   },
   "outputs": [],
   "source": [
    "# Filter large CADD score file to only genes of interest\n",
    "pgx_symbols = pgx_genes[\"gene symbol\"].tolist()\n",
    "with open(CADD_FILE, \"r\") as f:\n",
    "    with open(SUPPLEMENT_PATH + \"ExAC_r0.3_inclAnno_pgx.tsv\", \"w\") as of:\n",
    "        for line in f:\n",
    "            if line.startswith(\"##\"):\n",
    "                of.write(line)\n",
    "                continue\n",
    "\n",
    "            if line.startswith(\"#\"):\n",
    "                elements = line.strip().split(\"\\t\")\n",
    "                geneidx = elements.index(\"GeneName\")\n",
    "                of.write(line.strip() + \"\\tvar_uid\\n\")\n",
    "                continue\n",
    "\n",
    "\n",
    "            elements = line.strip().split(\"\\t\")\n",
    "            if elements[geneidx] in pgx_symbols:\n",
    "                varuid = elements[0] + \"-\" + elements[geneidx] + \"-\" + elements[1] + \"-\" +\\\n",
    "                         elements[2] + \"-\" + elements[4]\n",
    "                of.write(line.strip() + \"\\t\" + varuid + \"\\n\")\n"
   ]
  },
  {
   "cell_type": "code",
   "execution_count": 68,
   "metadata": {
    "collapsed": false,
    "deletable": true,
    "editable": true,
    "run_control": {
     "frozen": false,
     "read_only": false
    }
   },
   "outputs": [
    {
     "name": "stderr",
     "output_type": "stream",
     "text": [
      "/Users/schaerfe/Documents/Privat/Dropbox/anaconda/lib/python2.7/site-packages/IPython/core/interactiveshell.py:2717: DtypeWarning: Columns (0,8,75,76) have mixed types. Specify dtype option on import or set low_memory=False.\n",
      "  interactivity=interactivity, compiler=compiler, result=result)\n"
     ]
    }
   ],
   "source": [
    "cadd = pd.read_csv(SUPPLEMENT_PATH + \"ExAC_r0.3_inclAnno_pgx.tsv\", sep=\"\\t\", skiprows=1)"
   ]
  },
  {
   "cell_type": "code",
   "execution_count": 69,
   "metadata": {
    "collapsed": false,
    "deletable": true,
    "editable": true,
    "run_control": {
     "frozen": false,
     "read_only": false
    }
   },
   "outputs": [
    {
     "data": {
      "text/plain": [
       "584320"
      ]
     },
     "execution_count": 69,
     "metadata": {},
     "output_type": "execute_result"
    }
   ],
   "source": [
    "len(cadd)"
   ]
  },
  {
   "cell_type": "markdown",
   "metadata": {
    "deletable": true,
    "editable": true
   },
   "source": [
    "## Join variants in drug-related genes with CADD scores"
   ]
  },
  {
   "cell_type": "code",
   "execution_count": 70,
   "metadata": {
    "collapsed": false,
    "deletable": true,
    "editable": true,
    "run_control": {
     "frozen": false,
     "read_only": false
    }
   },
   "outputs": [],
   "source": [
    "variants_druggenes_cadd = variants_druggenes.merge(cadd, left_on=[\"CHROM\", \"POS\", \"REF\", \"ALT\"],\n",
    "                                                   right_on=[\"#Chrom\", \"Pos\", \"Ref\", \"Alt\"])"
   ]
  },
  {
   "cell_type": "code",
   "execution_count": 71,
   "metadata": {
    "collapsed": true,
    "deletable": true,
    "editable": true,
    "run_control": {
     "frozen": false,
     "read_only": false
    }
   },
   "outputs": [],
   "source": [
    "variants_druggenes_cadd = variants_druggenes_cadd.drop_duplicates()"
   ]
  },
  {
   "cell_type": "code",
   "execution_count": 72,
   "metadata": {
    "collapsed": false,
    "deletable": true,
    "editable": true,
    "run_control": {
     "frozen": false,
     "read_only": false
    }
   },
   "outputs": [
    {
     "name": "stdout",
     "output_type": "stream",
     "text": [
      "The history saving thread hit an unexpected error (OperationalError('unable to open database file',)).History will not be written to the database."
     ]
    },
    {
     "data": {
      "text/plain": [
       "(410383, 334397)"
      ]
     },
     "execution_count": 72,
     "metadata": {},
     "output_type": "execute_result"
    },
    {
     "name": "stdout",
     "output_type": "stream",
     "text": [
      "\n"
     ]
    }
   ],
   "source": [
    "len(variants_druggenes_cadd), len(variants_druggenes)"
   ]
  },
  {
   "cell_type": "markdown",
   "metadata": {
    "deletable": true,
    "editable": true
   },
   "source": [
    "## Compare overlap SIFT&PolyPhen with CADD variant sets (>20)"
   ]
  },
  {
   "cell_type": "code",
   "execution_count": 73,
   "metadata": {
    "collapsed": true,
    "deletable": true,
    "editable": true,
    "run_control": {
     "frozen": false,
     "read_only": false
    }
   },
   "outputs": [],
   "source": [
    "both_2 = variants_druggenes_cadd.loc[(variants_druggenes_cadd.SIFT.str.contains(\"deleterious\")) &\n",
    "                                     (variants_druggenes_cadd.PolyPhen.str.contains(\"damaging\"))]"
   ]
  },
  {
   "cell_type": "code",
   "execution_count": 74,
   "metadata": {
    "collapsed": true,
    "deletable": true,
    "editable": true,
    "run_control": {
     "frozen": false,
     "read_only": false
    }
   },
   "outputs": [],
   "source": [
    "cadd_15 = variants_druggenes_cadd.loc[variants_druggenes_cadd.PHRED > 15.0]\n",
    "cadd_20 = variants_druggenes_cadd.loc[variants_druggenes_cadd.PHRED > 20.0]\n",
    "cadd_25 = variants_druggenes_cadd.loc[variants_druggenes_cadd.PHRED > 25.0]"
   ]
  },
  {
   "cell_type": "code",
   "execution_count": 79,
   "metadata": {
    "collapsed": false,
    "deletable": true,
    "editable": true,
    "run_control": {
     "frozen": false,
     "read_only": false
    }
   },
   "outputs": [
    {
     "data": {
      "image/png": "[encoded data removed]",
      "text/plain": [
       "<matplotlib.figure.Figure at 0x105170a90>"
      ]
     },
     "metadata": {},
     "output_type": "display_data"
    }
   ],
   "source": [
    "b = len(set(both_2.var_uid_x.tolist()) & set(cadd_20.var_uid_x.tolist()))\n",
    "p = len(set(both_2.var_uid_x.tolist()) - set(cadd_20.var_uid_x.tolist()))\n",
    "e = len(set(cadd_20.var_uid_x.tolist()) - set(both_2.var_uid_x.tolist()))\n",
    "venn2(subsets = (p, e, b), set_labels = ('SIFT & PolyPhen\\ndeleterious', 'CADD \\n scaled > 20'),\n",
    "      set_colors=('yellow', 'blue'))\n",
    "plt.ylabel(\"\");\n",
    "plt.savefig(RAW_FIGURE_PATH + \"overlap_SIFTPolyPhen_CADD20.pdf\", dpi=300)"
   ]
  },
  {
   "cell_type": "code",
   "execution_count": 78,
   "metadata": {
    "collapsed": false,
    "deletable": true,
    "editable": true,
    "run_control": {
     "frozen": false,
     "read_only": false
    }
   },
   "outputs": [
    {
     "data": {
      "image/png": "[encoded data removed]",
      "text/plain": [
       "<matplotlib.figure.Figure at 0x12674c550>"
      ]
     },
     "metadata": {},
     "output_type": "display_data"
    }
   ],
   "source": [
    "b = len(set(both_2.var_uid_x.tolist()) & set(cadd_25.var_uid_x.tolist()))\n",
    "p = len(set(both_2.var_uid_x.tolist()) - set(cadd_25.var_uid_x.tolist()))\n",
    "e = len(set(cadd_25.var_uid_x.tolist()) - set(both_2.var_uid_x.tolist()))\n",
    "venn2(subsets = (p, e, b), set_labels = ('SIFT & PolyPhen\\ndeleterious', 'CADD \\n scaled > 25'),\n",
    "      set_colors=('yellow', 'blue'))\n",
    "plt.ylabel(\"\");\n",
    "plt.savefig(RAW_FIGURE_PATH + \"overlap_SIFTPolyPhen_CADD25.pdf\", dpi=300)"
   ]
  },
  {
   "cell_type": "markdown",
   "metadata": {
    "deletable": true,
    "editable": true
   },
   "source": [
    "## Compare overlap SIFT&PolyPhen, EVmutation (z < 0.5) with CADD variant sets (>20)"
   ]
  },
  {
   "cell_type": "code",
   "execution_count": 368,
   "metadata": {
    "collapsed": false,
    "deletable": true,
    "editable": true,
    "run_control": {
     "frozen": false,
     "read_only": false
    }
   },
   "outputs": [],
   "source": [
    "import sys\n",
    "sys.path.insert(0, '../scripts/')\n",
    "# import pop_stats_tools as tools\n",
    "import pop_stats_plotting_tools as pt"
   ]
  },
  {
   "cell_type": "code",
   "execution_count": 396,
   "metadata": {
    "collapsed": false,
    "deletable": true,
    "editable": true,
    "run_control": {
     "frozen": false,
     "read_only": false
    }
   },
   "outputs": [],
   "source": [
    "shared_variants = reduce(set.intersection, map(set, [variants_druggenes.var_uid.tolist(),\n",
    "                                                     variants_modeled_genes2.var_uid.tolist(),\n",
    "                                                     variants_druggenes_cadd.var_uid_x.tolist()]))\n"
   ]
  },
  {
   "cell_type": "code",
   "execution_count": 397,
   "metadata": {
    "collapsed": false,
    "deletable": true,
    "editable": true,
    "run_control": {
     "frozen": false,
     "read_only": false
    }
   },
   "outputs": [
    {
     "data": {
      "text/plain": [
       "114226"
      ]
     },
     "execution_count": 397,
     "metadata": {},
     "output_type": "execute_result"
    }
   ],
   "source": [
    "len(shared_variants)"
   ]
  },
  {
   "cell_type": "code",
   "execution_count": 400,
   "metadata": {
    "collapsed": false,
    "deletable": true,
    "editable": true,
    "run_control": {
     "frozen": false,
     "read_only": false
    }
   },
   "outputs": [
    {
     "data": {
      "text/plain": [
       "18385"
      ]
     },
     "execution_count": 400,
     "metadata": {},
     "output_type": "execute_result"
    }
   ],
   "source": [
    "len(reduce(set.intersection, map(set, [both_2.loc[both_2.var_uid_x.isin(shared_variants)].var_uid_x.tolist(),\n",
    "                                       evmutation_delet.loc[evmutation_delet.var_uid.isin(shared_variants)].var_uid.tolist(),\n",
    "                                       cadd_20.loc[cadd_20.var_uid_x.isin(shared_variants)].var_uid_x.tolist()])))"
   ]
  },
  {
   "cell_type": "code",
   "execution_count": 401,
   "metadata": {
    "collapsed": false,
    "deletable": true,
    "editable": true,
    "run_control": {
     "frozen": false,
     "read_only": false
    }
   },
   "outputs": [
    {
     "data": {
      "image/png": "[encoded data removed]",
      "text/plain": [
       "<matplotlib.figure.Figure at 0x3080f1d90>"
      ]
     },
     "metadata": {},
     "output_type": "display_data"
    }
   ],
   "source": [
    "pt.three_circle_venn(set(both_2.loc[both_2.var_uid_x.isin(shared_variants)].var_uid_x.tolist()),\n",
    "                     set(evmutation_delet.loc[evmutation_delet.var_uid.isin(shared_variants)].var_uid.tolist()),\n",
    "                     set(cadd_20.loc[cadd_20.var_uid_x.isin(shared_variants)].var_uid_x.tolist()),\n",
    "                     labels=('sift & polyphen\\ndeleterious', 'evmutation\\nat z<= 0.5', 'cadd \\n scaled > 20'),\n",
    "                     figsize=(10, 10), fontcolor='black')"
   ]
  },
  {
   "cell_type": "markdown",
   "metadata": {
    "deletable": true,
    "editable": true
   },
   "source": [
    "# Compare ExAC frequencies to other sources "
   ]
  },
  {
   "cell_type": "code",
   "execution_count": 402,
   "metadata": {
    "collapsed": true,
    "deletable": true,
    "editable": true,
    "run_control": {
     "frozen": false,
     "read_only": false
    }
   },
   "outputs": [],
   "source": [
    "tpmt_variants = pd.read_excel(\"/Users/schaerfe/Documents/Privat/Dropbox/Charlotta_MyDrug_paper_material/Misc/TMPT_frequencies_Rellingetal2011.xlsx\")"
   ]
  },
  {
   "cell_type": "code",
   "execution_count": 403,
   "metadata": {
    "collapsed": false,
    "deletable": true,
    "editable": true,
    "run_control": {
     "frozen": false,
     "read_only": false
    }
   },
   "outputs": [
    {
     "data": {
      "text/html": [
       "<div>\n",
       "<table border=\"1\" class=\"dataframe\">\n",
       "  <thead>\n",
       "    <tr style=\"text-align: right;\">\n",
       "      <th></th>\n",
       "      <th>Allele</th>\n",
       "      <th>SNP</th>\n",
       "      <th>Caucasian</th>\n",
       "      <th>Mediteranean</th>\n",
       "      <th>South American</th>\n",
       "      <th>African</th>\n",
       "      <th>Middle Eastern</th>\n",
       "      <th>Mexican</th>\n",
       "      <th>Asian</th>\n",
       "      <th>South West Asian</th>\n",
       "    </tr>\n",
       "  </thead>\n",
       "  <tbody>\n",
       "    <tr>\n",
       "      <th>0</th>\n",
       "      <td>*1</td>\n",
       "      <td>rs1800462|G&gt;G;rs1800460|C&gt;C; rs1142345|T&gt;T</td>\n",
       "      <td>0.95671</td>\n",
       "      <td>0.96081</td>\n",
       "      <td>0.95233</td>\n",
       "      <td>0.94284</td>\n",
       "      <td>0.96987</td>\n",
       "      <td>0.925</td>\n",
       "      <td>0.98364</td>\n",
       "      <td>0.97837</td>\n",
       "    </tr>\n",
       "    <tr>\n",
       "      <th>1</th>\n",
       "      <td>*2</td>\n",
       "      <td>rs1800462|G&gt;C</td>\n",
       "      <td>0.0019</td>\n",
       "      <td>0.00408</td>\n",
       "      <td>0.00876</td>\n",
       "      <td>0.000873</td>\n",
       "      <td>0.00749</td>\n",
       "      <td>0.00592</td>\n",
       "      <td>0</td>\n",
       "      <td>0.0025</td>\n",
       "    </tr>\n",
       "    <tr>\n",
       "      <th>2</th>\n",
       "      <td>*3A</td>\n",
       "      <td>rs1800460|C&gt;T;rs1142345|T&gt;C</td>\n",
       "      <td>0.0354</td>\n",
       "      <td>0.0254</td>\n",
       "      <td>0.0287</td>\n",
       "      <td>0.00218</td>\n",
       "      <td>0.0114</td>\n",
       "      <td>0.0533</td>\n",
       "      <td>0.000119</td>\n",
       "      <td>0.00583</td>\n",
       "    </tr>\n",
       "    <tr>\n",
       "      <th>3</th>\n",
       "      <td>*3B</td>\n",
       "      <td>rs1800460|C&gt;T</td>\n",
       "      <td>0.000461</td>\n",
       "      <td>0.00426</td>\n",
       "      <td>0.000486</td>\n",
       "      <td>0</td>\n",
       "      <td>0.00562</td>\n",
       "      <td>0.0069</td>\n",
       "      <td>0</td>\n",
       "      <td>0</td>\n",
       "    </tr>\n",
       "    <tr>\n",
       "      <th>4</th>\n",
       "      <td>*3C</td>\n",
       "      <td>rs1142345|T&gt;C</td>\n",
       "      <td>0.004207</td>\n",
       "      <td>0.00545</td>\n",
       "      <td>0.00924</td>\n",
       "      <td>0.048</td>\n",
       "      <td>0.00562</td>\n",
       "      <td>0.00888</td>\n",
       "      <td>0.0157</td>\n",
       "      <td>0.0133</td>\n",
       "    </tr>\n",
       "    <tr>\n",
       "      <th>5</th>\n",
       "      <td>*4</td>\n",
       "      <td>rs1800584|C&gt;T</td>\n",
       "      <td>na</td>\n",
       "      <td>na</td>\n",
       "      <td>0.000486</td>\n",
       "      <td>na</td>\n",
       "      <td>na</td>\n",
       "      <td>na</td>\n",
       "      <td>na</td>\n",
       "      <td>na</td>\n",
       "    </tr>\n",
       "    <tr>\n",
       "      <th>6</th>\n",
       "      <td>*6</td>\n",
       "      <td>NaN</td>\n",
       "      <td>na</td>\n",
       "      <td>na</td>\n",
       "      <td>na</td>\n",
       "      <td>na</td>\n",
       "      <td>na</td>\n",
       "      <td>na</td>\n",
       "      <td>0.000537</td>\n",
       "      <td>na</td>\n",
       "    </tr>\n",
       "    <tr>\n",
       "      <th>7</th>\n",
       "      <td>*7</td>\n",
       "      <td>NaN</td>\n",
       "      <td>5.76e-05</td>\n",
       "      <td>na</td>\n",
       "      <td>na</td>\n",
       "      <td>na</td>\n",
       "      <td>na</td>\n",
       "      <td>na</td>\n",
       "      <td>na</td>\n",
       "      <td>na</td>\n",
       "    </tr>\n",
       "    <tr>\n",
       "      <th>8</th>\n",
       "      <td>*8</td>\n",
       "      <td>NaN</td>\n",
       "      <td>na</td>\n",
       "      <td>na</td>\n",
       "      <td>na</td>\n",
       "      <td>0.00611</td>\n",
       "      <td>na</td>\n",
       "      <td>na</td>\n",
       "      <td>na</td>\n",
       "      <td>na</td>\n",
       "    </tr>\n",
       "    <tr>\n",
       "      <th>9</th>\n",
       "      <td>*9</td>\n",
       "      <td>NaN</td>\n",
       "      <td>0.00115</td>\n",
       "      <td>na</td>\n",
       "      <td>na</td>\n",
       "      <td>na</td>\n",
       "      <td>na</td>\n",
       "      <td>na</td>\n",
       "      <td>na</td>\n",
       "      <td>na</td>\n",
       "    </tr>\n",
       "    <tr>\n",
       "      <th>10</th>\n",
       "      <td>*11</td>\n",
       "      <td>NaN</td>\n",
       "      <td>5.76e-05</td>\n",
       "      <td>na</td>\n",
       "      <td>na</td>\n",
       "      <td>na</td>\n",
       "      <td>na</td>\n",
       "      <td>na</td>\n",
       "      <td>na</td>\n",
       "      <td>na</td>\n",
       "    </tr>\n",
       "    <tr>\n",
       "      <th>11</th>\n",
       "      <td>*12</td>\n",
       "      <td>NaN</td>\n",
       "      <td>5.76e-05</td>\n",
       "      <td>na</td>\n",
       "      <td>na</td>\n",
       "      <td>na</td>\n",
       "      <td>na</td>\n",
       "      <td>na</td>\n",
       "      <td>na</td>\n",
       "      <td>na</td>\n",
       "    </tr>\n",
       "  </tbody>\n",
       "</table>\n",
       "</div>"
      ],
      "text/plain": [
       "   Allele                                         SNP Caucasian Mediteranean  \\\n",
       "0      *1  rs1800462|G>G;rs1800460|C>C; rs1142345|T>T   0.95671      0.96081   \n",
       "1      *2                               rs1800462|G>C    0.0019      0.00408   \n",
       "2     *3A                 rs1800460|C>T;rs1142345|T>C    0.0354       0.0254   \n",
       "3     *3B                               rs1800460|C>T  0.000461      0.00426   \n",
       "4     *3C                               rs1142345|T>C  0.004207      0.00545   \n",
       "5      *4                               rs1800584|C>T        na           na   \n",
       "6      *6                                         NaN        na           na   \n",
       "7      *7                                         NaN  5.76e-05           na   \n",
       "8      *8                                         NaN        na           na   \n",
       "9      *9                                         NaN   0.00115           na   \n",
       "10    *11                                         NaN  5.76e-05           na   \n",
       "11    *12                                         NaN  5.76e-05           na   \n",
       "\n",
       "   South American   African Middle Eastern  Mexican     Asian South West Asian  \n",
       "0         0.95233   0.94284        0.96987    0.925   0.98364          0.97837  \n",
       "1         0.00876  0.000873        0.00749  0.00592         0           0.0025  \n",
       "2          0.0287   0.00218         0.0114   0.0533  0.000119          0.00583  \n",
       "3        0.000486         0        0.00562   0.0069         0                0  \n",
       "4         0.00924     0.048        0.00562  0.00888    0.0157           0.0133  \n",
       "5        0.000486        na             na       na        na               na  \n",
       "6              na        na             na       na  0.000537               na  \n",
       "7              na        na             na       na        na               na  \n",
       "8              na   0.00611             na       na        na               na  \n",
       "9              na        na             na       na        na               na  \n",
       "10             na        na             na       na        na               na  \n",
       "11             na        na             na       na        na               na  "
      ]
     },
     "execution_count": 403,
     "metadata": {},
     "output_type": "execute_result"
    }
   ],
   "source": [
    "tpmt_variants"
   ]
  },
  {
   "cell_type": "code",
   "execution_count": 418,
   "metadata": {
    "collapsed": false,
    "deletable": true,
    "editable": true,
    "run_control": {
     "frozen": false,
     "read_only": false
    }
   },
   "outputs": [
    {
     "data": {
      "text/plain": [
       "Allele                                                *3A*3B\n",
       "SNP                 rs1800460|C>T;rs1142345|T>Crs1800460|C>T\n",
       "Caucasian                                           0.035861\n",
       "Mediteranean                                         0.02966\n",
       "South American                                      0.029186\n",
       "African                                              0.00218\n",
       "Middle Eastern                                       0.01702\n",
       "Mexican                                               0.0602\n",
       "Asian                                               0.000119\n",
       "South West Asian                                     0.00583\n",
       "dtype: object"
      ]
     },
     "execution_count": 418,
     "metadata": {},
     "output_type": "execute_result"
    }
   ],
   "source": [
    "tpmt_variants.ix[2:3].sum()"
   ]
  },
  {
   "cell_type": "code",
   "execution_count": 417,
   "metadata": {
    "collapsed": false,
    "deletable": true,
    "editable": true,
    "run_control": {
     "frozen": false,
     "read_only": false
    }
   },
   "outputs": [
    {
     "data": {
      "text/plain": [
       "Allele                                                *3A*3C\n",
       "SNP                 rs1800460|C>T;rs1142345|T>Crs1142345|T>C\n",
       "Caucasian                                           0.039607\n",
       "Mediteranean                                         0.03085\n",
       "South American                                       0.03794\n",
       "African                                              0.05018\n",
       "Middle Eastern                                       0.01702\n",
       "Mexican                                              0.06218\n",
       "Asian                                               0.015819\n",
       "South West Asian                                     0.01913\n",
       "dtype: object"
      ]
     },
     "execution_count": 417,
     "metadata": {},
     "output_type": "execute_result"
    }
   ],
   "source": [
    "tpmt_variants.ix[[2,4]].sum()"
   ]
  },
  {
   "cell_type": "code",
   "execution_count": 405,
   "metadata": {
    "collapsed": false,
    "deletable": true,
    "editable": true,
    "run_control": {
     "frozen": false,
     "read_only": false
    }
   },
   "outputs": [
    {
     "data": {
      "text/html": [
       "<div>\n",
       "<table border=\"1\" class=\"dataframe\">\n",
       "  <thead>\n",
       "    <tr style=\"text-align: right;\">\n",
       "      <th></th>\n",
       "      <th>Transcript</th>\n",
       "      <th>CHROM</th>\n",
       "      <th>POS</th>\n",
       "      <th>REF</th>\n",
       "      <th>ALT</th>\n",
       "      <th>ID</th>\n",
       "      <th>QUAL</th>\n",
       "      <th>FILTER</th>\n",
       "      <th>var_type</th>\n",
       "      <th>var_subtype</th>\n",
       "      <th>AC</th>\n",
       "      <th>AC_AFR</th>\n",
       "      <th>AC_AMR</th>\n",
       "      <th>AC_Adj</th>\n",
       "      <th>AC_EAS</th>\n",
       "      <th>AC_FIN</th>\n",
       "      <th>AC_Hemi</th>\n",
       "      <th>AC_Het</th>\n",
       "      <th>AC_Hom</th>\n",
       "      <th>AC_NFE</th>\n",
       "      <th>AC_OTH</th>\n",
       "      <th>AC_SAS</th>\n",
       "      <th>AF</th>\n",
       "      <th>AN</th>\n",
       "      <th>AN_AFR</th>\n",
       "      <th>AN_AMR</th>\n",
       "      <th>AN_Adj</th>\n",
       "      <th>AN_EAS</th>\n",
       "      <th>AN_FIN</th>\n",
       "      <th>AN_NFE</th>\n",
       "      <th>AN_OTH</th>\n",
       "      <th>AN_SAS</th>\n",
       "      <th>BaseQRankSum</th>\n",
       "      <th>CCC</th>\n",
       "      <th>ClippingRankSum</th>\n",
       "      <th>DB</th>\n",
       "      <th>DP</th>\n",
       "      <th>DS</th>\n",
       "      <th>END</th>\n",
       "      <th>FS</th>\n",
       "      <th>GQ_MEAN</th>\n",
       "      <th>GQ_STDDEV</th>\n",
       "      <th>HWP</th>\n",
       "      <th>HaplotypeScore</th>\n",
       "      <th>Hemi_AFR</th>\n",
       "      <th>Hemi_AMR</th>\n",
       "      <th>Hemi_EAS</th>\n",
       "      <th>Hemi_FIN</th>\n",
       "      <th>Hemi_NFE</th>\n",
       "      <th>Hemi_OTH</th>\n",
       "      <th>Hemi_SAS</th>\n",
       "      <th>Het_AFR</th>\n",
       "      <th>Het_AMR</th>\n",
       "      <th>Het_EAS</th>\n",
       "      <th>Het_FIN</th>\n",
       "      <th>Het_NFE</th>\n",
       "      <th>Het_OTH</th>\n",
       "      <th>Het_SAS</th>\n",
       "      <th>Hom_AFR</th>\n",
       "      <th>Hom_AMR</th>\n",
       "      <th>Hom_EAS</th>\n",
       "      <th>Hom_FIN</th>\n",
       "      <th>Hom_NFE</th>\n",
       "      <th>Hom_OTH</th>\n",
       "      <th>Hom_SAS</th>\n",
       "      <th>InbreedingCoeff</th>\n",
       "      <th>MLEAC</th>\n",
       "      <th>MLEAF</th>\n",
       "      <th>MQ</th>\n",
       "      <th>MQ0</th>\n",
       "      <th>MQRankSum</th>\n",
       "      <th>NCC</th>\n",
       "      <th>QD</th>\n",
       "      <th>ReadPosRankSum</th>\n",
       "      <th>VQSLOD</th>\n",
       "      <th>culprit</th>\n",
       "      <th>Allele</th>\n",
       "      <th>Gene</th>\n",
       "      <th>Feature</th>\n",
       "      <th>Feature_type</th>\n",
       "      <th>Consequence</th>\n",
       "      <th>cDNA_position</th>\n",
       "      <th>CDS_position</th>\n",
       "      <th>Protein_position</th>\n",
       "      <th>Amino_acids</th>\n",
       "      <th>Codons</th>\n",
       "      <th>Existing_variation</th>\n",
       "      <th>ALLELE_NUM</th>\n",
       "      <th>DISTANCE</th>\n",
       "      <th>STRAND</th>\n",
       "      <th>SYMBOL</th>\n",
       "      <th>SYMBOL_SOURCE</th>\n",
       "      <th>HGNC_ID</th>\n",
       "      <th>BIOTYPE</th>\n",
       "      <th>CANONICAL</th>\n",
       "      <th>CCDS</th>\n",
       "      <th>ENSP</th>\n",
       "      <th>SWISSPROT</th>\n",
       "      <th>TREMBL</th>\n",
       "      <th>UNIPARC</th>\n",
       "      <th>SIFT</th>\n",
       "      <th>PolyPhen</th>\n",
       "      <th>EXON</th>\n",
       "      <th>INTRON</th>\n",
       "      <th>DOMAINS</th>\n",
       "      <th>HGVSc</th>\n",
       "      <th>HGVSp</th>\n",
       "      <th>GMAF</th>\n",
       "      <th>AFR_MAF</th>\n",
       "      <th>AMR_MAF</th>\n",
       "      <th>ASN_MAF</th>\n",
       "      <th>EUR_MAF</th>\n",
       "      <th>AA_MAF</th>\n",
       "      <th>EA_MAF</th>\n",
       "      <th>CLIN_SIG</th>\n",
       "      <th>SOMATIC</th>\n",
       "      <th>PUBMED</th>\n",
       "      <th>MOTIF_NAME</th>\n",
       "      <th>MOTIF_POS</th>\n",
       "      <th>HIGH_INF_POS</th>\n",
       "      <th>MOTIF_SCORE_CHANGE</th>\n",
       "      <th>LoF_info</th>\n",
       "      <th>LoF_flags</th>\n",
       "      <th>LoF_filter</th>\n",
       "      <th>LoF</th>\n",
       "      <th>COMP.AF_AFR</th>\n",
       "      <th>COMP.AF_AMR</th>\n",
       "      <th>COMP.AF_EAS</th>\n",
       "      <th>COMP.AF_FIN</th>\n",
       "      <th>COMP.AF_NFE</th>\n",
       "      <th>COMP.AF_OTH</th>\n",
       "      <th>COMP.AF_SAS</th>\n",
       "      <th>COMP.AF_Adj</th>\n",
       "      <th>var_uid</th>\n",
       "    </tr>\n",
       "  </thead>\n",
       "  <tbody>\n",
       "    <tr>\n",
       "      <th>2329450</th>\n",
       "      <td>transcript_00001</td>\n",
       "      <td>6</td>\n",
       "      <td>18143955</td>\n",
       "      <td>C</td>\n",
       "      <td>G</td>\n",
       "      <td>rs1800462</td>\n",
       "      <td>226006.83</td>\n",
       "      <td>PASS</td>\n",
       "      <td>snp</td>\n",
       "      <td>tv</td>\n",
       "      <td>166</td>\n",
       "      <td>5</td>\n",
       "      <td>28</td>\n",
       "      <td>166</td>\n",
       "      <td>0</td>\n",
       "      <td>1</td>\n",
       "      <td>NaN</td>\n",
       "      <td>166</td>\n",
       "      <td>0</td>\n",
       "      <td>130</td>\n",
       "      <td>2</td>\n",
       "      <td>0</td>\n",
       "      <td>0.001367</td>\n",
       "      <td>121408</td>\n",
       "      <td>10088</td>\n",
       "      <td>11458</td>\n",
       "      <td>120178</td>\n",
       "      <td>8584</td>\n",
       "      <td>6576</td>\n",
       "      <td>66144</td>\n",
       "      <td>900</td>\n",
       "      <td>16428</td>\n",
       "      <td>-0.75</td>\n",
       "      <td>NaN</td>\n",
       "      <td>-0.025</td>\n",
       "      <td>True</td>\n",
       "      <td>2035644</td>\n",
       "      <td>NaN</td>\n",
       "      <td>NaN</td>\n",
       "      <td>1.98</td>\n",
       "      <td>72.03</td>\n",
       "      <td>59.34</td>\n",
       "      <td>NaN</td>\n",
       "      <td>NaN</td>\n",
       "      <td>NaN</td>\n",
       "      <td>NaN</td>\n",
       "      <td>NaN</td>\n",
       "      <td>NaN</td>\n",
       "      <td>NaN</td>\n",
       "      <td>NaN</td>\n",
       "      <td>NaN</td>\n",
       "      <td>5</td>\n",
       "      <td>28</td>\n",
       "      <td>0</td>\n",
       "      <td>1</td>\n",
       "      <td>130</td>\n",
       "      <td>2</td>\n",
       "      <td>0</td>\n",
       "      <td>0</td>\n",
       "      <td>0</td>\n",
       "      <td>0</td>\n",
       "      <td>0</td>\n",
       "      <td>0</td>\n",
       "      <td>0</td>\n",
       "      <td>0</td>\n",
       "      <td>0.0031</td>\n",
       "      <td>NaN</td>\n",
       "      <td>NaN</td>\n",
       "      <td>59.86</td>\n",
       "      <td>0</td>\n",
       "      <td>0.348</td>\n",
       "      <td>16</td>\n",
       "      <td>12.05</td>\n",
       "      <td>0.503</td>\n",
       "      <td>3.83</td>\n",
       "      <td>MQ</td>\n",
       "      <td>G</td>\n",
       "      <td>ENSG00000137364</td>\n",
       "      <td>ENST00000309983</td>\n",
       "      <td>Transcript</td>\n",
       "      <td>missense_variant</td>\n",
       "      <td>324</td>\n",
       "      <td>238</td>\n",
       "      <td>80</td>\n",
       "      <td>A/P</td>\n",
       "      <td>Gca/Cca</td>\n",
       "      <td>rs1800462&amp;CM951239</td>\n",
       "      <td>1</td>\n",
       "      <td>NaN</td>\n",
       "      <td>-1</td>\n",
       "      <td>TPMT</td>\n",
       "      <td>HGNC</td>\n",
       "      <td>12014</td>\n",
       "      <td>protein_coding</td>\n",
       "      <td>YES</td>\n",
       "      <td>CCDS4543.1</td>\n",
       "      <td>ENSP00000312304</td>\n",
       "      <td>TPMT_HUMAN</td>\n",
       "      <td>NaN</td>\n",
       "      <td>UPI0000137261</td>\n",
       "      <td>deleterious(0.01)</td>\n",
       "      <td>probably_damaging(0.99)</td>\n",
       "      <td>4/9</td>\n",
       "      <td>NaN</td>\n",
       "      <td>Pfam_domain:PF05724&amp;Superfamily_domains:SSF53335&amp;PIRSF_domain:PIRSF023956</td>\n",
       "      <td>ENST00000309983.4:c.238G&gt;C</td>\n",
       "      <td>ENSP00000312304.4:p.Ala80Pro</td>\n",
       "      <td>G:0.0037</td>\n",
       "      <td>G:0.0041</td>\n",
       "      <td>G:0.01</td>\n",
       "      <td>NaN</td>\n",
       "      <td>G:0.0040</td>\n",
       "      <td>G:0</td>\n",
       "      <td>G:0.002326</td>\n",
       "      <td>NaN</td>\n",
       "      <td>NaN</td>\n",
       "      <td>18547414&amp;23133420&amp;18685564&amp;22385887</td>\n",
       "      <td>NaN</td>\n",
       "      <td>NaN</td>\n",
       "      <td>NaN</td>\n",
       "      <td>NaN</td>\n",
       "      <td>NaN</td>\n",
       "      <td>NaN</td>\n",
       "      <td>NaN</td>\n",
       "      <td>NaN</td>\n",
       "      <td>0.000496</td>\n",
       "      <td>0.002444</td>\n",
       "      <td>0.0</td>\n",
       "      <td>0.000152</td>\n",
       "      <td>0.001965</td>\n",
       "      <td>0.002222</td>\n",
       "      <td>0.0</td>\n",
       "      <td>0.001381</td>\n",
       "      <td>6-TPMT-18143955-C-G</td>\n",
       "    </tr>\n",
       "  </tbody>\n",
       "</table>\n",
       "</div>"
      ],
      "text/plain": [
       "               Transcript CHROM       POS REF ALT         ID       QUAL  \\\n",
       "2329450  transcript_00001     6  18143955   C   G  rs1800462  226006.83   \n",
       "\n",
       "        FILTER var_type var_subtype   AC  AC_AFR  AC_AMR  AC_Adj  AC_EAS  \\\n",
       "2329450   PASS      snp          tv  166       5      28     166       0   \n",
       "\n",
       "         AC_FIN  AC_Hemi AC_Het  AC_Hom  AC_NFE  AC_OTH  AC_SAS        AF  \\\n",
       "2329450       1      NaN    166       0     130       2       0  0.001367   \n",
       "\n",
       "             AN  AN_AFR  AN_AMR  AN_Adj  AN_EAS  AN_FIN  AN_NFE  AN_OTH  \\\n",
       "2329450  121408   10088   11458  120178    8584    6576   66144     900   \n",
       "\n",
       "         AN_SAS  BaseQRankSum  CCC  ClippingRankSum    DB       DP  DS  END  \\\n",
       "2329450   16428         -0.75  NaN           -0.025  True  2035644 NaN  NaN   \n",
       "\n",
       "           FS  GQ_MEAN  GQ_STDDEV  HWP  HaplotypeScore  Hemi_AFR  Hemi_AMR  \\\n",
       "2329450  1.98    72.03      59.34  NaN             NaN       NaN       NaN   \n",
       "\n",
       "         Hemi_EAS  Hemi_FIN  Hemi_NFE  Hemi_OTH  Hemi_SAS Het_AFR Het_AMR  \\\n",
       "2329450       NaN       NaN       NaN       NaN       NaN       5      28   \n",
       "\n",
       "        Het_EAS Het_FIN Het_NFE Het_OTH Het_SAS  Hom_AFR  Hom_AMR  Hom_EAS  \\\n",
       "2329450       0       1     130       2       0        0        0        0   \n",
       "\n",
       "         Hom_FIN  Hom_NFE  Hom_OTH  Hom_SAS  InbreedingCoeff  MLEAC  MLEAF  \\\n",
       "2329450        0        0        0        0           0.0031    NaN    NaN   \n",
       "\n",
       "            MQ  MQ0  MQRankSum  NCC     QD  ReadPosRankSum  VQSLOD culprit  \\\n",
       "2329450  59.86    0      0.348   16  12.05           0.503    3.83      MQ   \n",
       "\n",
       "        Allele             Gene          Feature Feature_type  \\\n",
       "2329450      G  ENSG00000137364  ENST00000309983   Transcript   \n",
       "\n",
       "              Consequence cDNA_position CDS_position Protein_position  \\\n",
       "2329450  missense_variant           324          238               80   \n",
       "\n",
       "        Amino_acids   Codons  Existing_variation  ALLELE_NUM  DISTANCE  \\\n",
       "2329450         A/P  Gca/Cca  rs1800462&CM951239           1       NaN   \n",
       "\n",
       "         STRAND SYMBOL SYMBOL_SOURCE  HGNC_ID         BIOTYPE CANONICAL  \\\n",
       "2329450      -1   TPMT          HGNC    12014  protein_coding       YES   \n",
       "\n",
       "               CCDS             ENSP   SWISSPROT TREMBL        UNIPARC  \\\n",
       "2329450  CCDS4543.1  ENSP00000312304  TPMT_HUMAN    NaN  UPI0000137261   \n",
       "\n",
       "                      SIFT                 PolyPhen EXON INTRON  \\\n",
       "2329450  deleterious(0.01)  probably_damaging(0.99)  4/9    NaN   \n",
       "\n",
       "                                                                           DOMAINS  \\\n",
       "2329450  Pfam_domain:PF05724&Superfamily_domains:SSF53335&PIRSF_domain:PIRSF023956   \n",
       "\n",
       "                              HGVSc                         HGVSp      GMAF  \\\n",
       "2329450  ENST00000309983.4:c.238G>C  ENSP00000312304.4:p.Ala80Pro  G:0.0037   \n",
       "\n",
       "          AFR_MAF AMR_MAF ASN_MAF   EUR_MAF AA_MAF      EA_MAF CLIN_SIG  \\\n",
       "2329450  G:0.0041  G:0.01     NaN  G:0.0040    G:0  G:0.002326      NaN   \n",
       "\n",
       "        SOMATIC                               PUBMED  MOTIF_NAME  MOTIF_POS  \\\n",
       "2329450     NaN  18547414&23133420&18685564&22385887         NaN        NaN   \n",
       "\n",
       "         HIGH_INF_POS  MOTIF_SCORE_CHANGE LoF_info LoF_flags LoF_filter  LoF  \\\n",
       "2329450           NaN                 NaN      NaN       NaN        NaN  NaN   \n",
       "\n",
       "         COMP.AF_AFR  COMP.AF_AMR  COMP.AF_EAS  COMP.AF_FIN  COMP.AF_NFE  \\\n",
       "2329450     0.000496     0.002444          0.0     0.000152     0.001965   \n",
       "\n",
       "         COMP.AF_OTH  COMP.AF_SAS  COMP.AF_Adj              var_uid  \n",
       "2329450     0.002222          0.0     0.001381  6-TPMT-18143955-C-G  "
      ]
     },
     "execution_count": 405,
     "metadata": {},
     "output_type": "execute_result"
    }
   ],
   "source": [
    "variants.loc[variants.ID.str.contains(\"rs1800462\", na=False)]"
   ]
  },
  {
   "cell_type": "code",
   "execution_count": 406,
   "metadata": {
    "collapsed": false,
    "deletable": true,
    "editable": true,
    "run_control": {
     "frozen": false,
     "read_only": false
    }
   },
   "outputs": [
    {
     "data": {
      "text/html": [
       "<div>\n",
       "<table border=\"1\" class=\"dataframe\">\n",
       "  <thead>\n",
       "    <tr style=\"text-align: right;\">\n",
       "      <th></th>\n",
       "      <th>Transcript</th>\n",
       "      <th>CHROM</th>\n",
       "      <th>POS</th>\n",
       "      <th>REF</th>\n",
       "      <th>ALT</th>\n",
       "      <th>ID</th>\n",
       "      <th>QUAL</th>\n",
       "      <th>FILTER</th>\n",
       "      <th>var_type</th>\n",
       "      <th>var_subtype</th>\n",
       "      <th>AC</th>\n",
       "      <th>AC_AFR</th>\n",
       "      <th>AC_AMR</th>\n",
       "      <th>AC_Adj</th>\n",
       "      <th>AC_EAS</th>\n",
       "      <th>AC_FIN</th>\n",
       "      <th>AC_Hemi</th>\n",
       "      <th>AC_Het</th>\n",
       "      <th>AC_Hom</th>\n",
       "      <th>AC_NFE</th>\n",
       "      <th>AC_OTH</th>\n",
       "      <th>AC_SAS</th>\n",
       "      <th>AF</th>\n",
       "      <th>AN</th>\n",
       "      <th>AN_AFR</th>\n",
       "      <th>AN_AMR</th>\n",
       "      <th>AN_Adj</th>\n",
       "      <th>AN_EAS</th>\n",
       "      <th>AN_FIN</th>\n",
       "      <th>AN_NFE</th>\n",
       "      <th>AN_OTH</th>\n",
       "      <th>AN_SAS</th>\n",
       "      <th>BaseQRankSum</th>\n",
       "      <th>CCC</th>\n",
       "      <th>ClippingRankSum</th>\n",
       "      <th>DB</th>\n",
       "      <th>DP</th>\n",
       "      <th>DS</th>\n",
       "      <th>END</th>\n",
       "      <th>FS</th>\n",
       "      <th>GQ_MEAN</th>\n",
       "      <th>GQ_STDDEV</th>\n",
       "      <th>HWP</th>\n",
       "      <th>HaplotypeScore</th>\n",
       "      <th>Hemi_AFR</th>\n",
       "      <th>Hemi_AMR</th>\n",
       "      <th>Hemi_EAS</th>\n",
       "      <th>Hemi_FIN</th>\n",
       "      <th>Hemi_NFE</th>\n",
       "      <th>Hemi_OTH</th>\n",
       "      <th>Hemi_SAS</th>\n",
       "      <th>Het_AFR</th>\n",
       "      <th>Het_AMR</th>\n",
       "      <th>Het_EAS</th>\n",
       "      <th>Het_FIN</th>\n",
       "      <th>Het_NFE</th>\n",
       "      <th>Het_OTH</th>\n",
       "      <th>Het_SAS</th>\n",
       "      <th>Hom_AFR</th>\n",
       "      <th>Hom_AMR</th>\n",
       "      <th>Hom_EAS</th>\n",
       "      <th>Hom_FIN</th>\n",
       "      <th>Hom_NFE</th>\n",
       "      <th>Hom_OTH</th>\n",
       "      <th>Hom_SAS</th>\n",
       "      <th>InbreedingCoeff</th>\n",
       "      <th>MLEAC</th>\n",
       "      <th>MLEAF</th>\n",
       "      <th>MQ</th>\n",
       "      <th>MQ0</th>\n",
       "      <th>MQRankSum</th>\n",
       "      <th>NCC</th>\n",
       "      <th>QD</th>\n",
       "      <th>ReadPosRankSum</th>\n",
       "      <th>VQSLOD</th>\n",
       "      <th>culprit</th>\n",
       "      <th>Allele</th>\n",
       "      <th>Gene</th>\n",
       "      <th>Feature</th>\n",
       "      <th>Feature_type</th>\n",
       "      <th>Consequence</th>\n",
       "      <th>cDNA_position</th>\n",
       "      <th>CDS_position</th>\n",
       "      <th>Protein_position</th>\n",
       "      <th>Amino_acids</th>\n",
       "      <th>Codons</th>\n",
       "      <th>Existing_variation</th>\n",
       "      <th>ALLELE_NUM</th>\n",
       "      <th>DISTANCE</th>\n",
       "      <th>STRAND</th>\n",
       "      <th>SYMBOL</th>\n",
       "      <th>SYMBOL_SOURCE</th>\n",
       "      <th>HGNC_ID</th>\n",
       "      <th>BIOTYPE</th>\n",
       "      <th>CANONICAL</th>\n",
       "      <th>CCDS</th>\n",
       "      <th>ENSP</th>\n",
       "      <th>SWISSPROT</th>\n",
       "      <th>TREMBL</th>\n",
       "      <th>UNIPARC</th>\n",
       "      <th>SIFT</th>\n",
       "      <th>PolyPhen</th>\n",
       "      <th>EXON</th>\n",
       "      <th>INTRON</th>\n",
       "      <th>DOMAINS</th>\n",
       "      <th>HGVSc</th>\n",
       "      <th>HGVSp</th>\n",
       "      <th>GMAF</th>\n",
       "      <th>AFR_MAF</th>\n",
       "      <th>AMR_MAF</th>\n",
       "      <th>ASN_MAF</th>\n",
       "      <th>EUR_MAF</th>\n",
       "      <th>AA_MAF</th>\n",
       "      <th>EA_MAF</th>\n",
       "      <th>CLIN_SIG</th>\n",
       "      <th>SOMATIC</th>\n",
       "      <th>PUBMED</th>\n",
       "      <th>MOTIF_NAME</th>\n",
       "      <th>MOTIF_POS</th>\n",
       "      <th>HIGH_INF_POS</th>\n",
       "      <th>MOTIF_SCORE_CHANGE</th>\n",
       "      <th>LoF_info</th>\n",
       "      <th>LoF_flags</th>\n",
       "      <th>LoF_filter</th>\n",
       "      <th>LoF</th>\n",
       "      <th>COMP.AF_AFR</th>\n",
       "      <th>COMP.AF_AMR</th>\n",
       "      <th>COMP.AF_EAS</th>\n",
       "      <th>COMP.AF_FIN</th>\n",
       "      <th>COMP.AF_NFE</th>\n",
       "      <th>COMP.AF_OTH</th>\n",
       "      <th>COMP.AF_SAS</th>\n",
       "      <th>COMP.AF_Adj</th>\n",
       "      <th>var_uid</th>\n",
       "    </tr>\n",
       "  </thead>\n",
       "  <tbody>\n",
       "    <tr>\n",
       "      <th>2329397</th>\n",
       "      <td>transcript_00001</td>\n",
       "      <td>6</td>\n",
       "      <td>18139228</td>\n",
       "      <td>C</td>\n",
       "      <td>T</td>\n",
       "      <td>rs1800460</td>\n",
       "      <td>6514531.99</td>\n",
       "      <td>PASS</td>\n",
       "      <td>snp</td>\n",
       "      <td>ts</td>\n",
       "      <td>3338</td>\n",
       "      <td>72</td>\n",
       "      <td>515</td>\n",
       "      <td>3337</td>\n",
       "      <td>1</td>\n",
       "      <td>203</td>\n",
       "      <td>NaN</td>\n",
       "      <td>3187</td>\n",
       "      <td>75</td>\n",
       "      <td>2422</td>\n",
       "      <td>21</td>\n",
       "      <td>103</td>\n",
       "      <td>0.027</td>\n",
       "      <td>121412</td>\n",
       "      <td>10392</td>\n",
       "      <td>11578</td>\n",
       "      <td>121380</td>\n",
       "      <td>8654</td>\n",
       "      <td>6614</td>\n",
       "      <td>66724</td>\n",
       "      <td>908</td>\n",
       "      <td>16510</td>\n",
       "      <td>-2.811</td>\n",
       "      <td>NaN</td>\n",
       "      <td>-0.077</td>\n",
       "      <td>True</td>\n",
       "      <td>3385201</td>\n",
       "      <td>NaN</td>\n",
       "      <td>NaN</td>\n",
       "      <td>0.537</td>\n",
       "      <td>162.23</td>\n",
       "      <td>296.24</td>\n",
       "      <td>NaN</td>\n",
       "      <td>NaN</td>\n",
       "      <td>NaN</td>\n",
       "      <td>NaN</td>\n",
       "      <td>NaN</td>\n",
       "      <td>NaN</td>\n",
       "      <td>NaN</td>\n",
       "      <td>NaN</td>\n",
       "      <td>NaN</td>\n",
       "      <td>70</td>\n",
       "      <td>487</td>\n",
       "      <td>1</td>\n",
       "      <td>199</td>\n",
       "      <td>2310</td>\n",
       "      <td>21</td>\n",
       "      <td>99</td>\n",
       "      <td>1</td>\n",
       "      <td>14</td>\n",
       "      <td>0</td>\n",
       "      <td>2</td>\n",
       "      <td>56</td>\n",
       "      <td>0</td>\n",
       "      <td>2</td>\n",
       "      <td>0.0151</td>\n",
       "      <td>NaN</td>\n",
       "      <td>NaN</td>\n",
       "      <td>58.62</td>\n",
       "      <td>0</td>\n",
       "      <td>0.335</td>\n",
       "      <td>3</td>\n",
       "      <td>10.99</td>\n",
       "      <td>0.465</td>\n",
       "      <td>1.97</td>\n",
       "      <td>MQ</td>\n",
       "      <td>T</td>\n",
       "      <td>ENSG00000137364</td>\n",
       "      <td>ENST00000309983</td>\n",
       "      <td>Transcript</td>\n",
       "      <td>missense_variant</td>\n",
       "      <td>546</td>\n",
       "      <td>460</td>\n",
       "      <td>154</td>\n",
       "      <td>A/T</td>\n",
       "      <td>Gca/Aca</td>\n",
       "      <td>rs1800460&amp;CM961382</td>\n",
       "      <td>1</td>\n",
       "      <td>NaN</td>\n",
       "      <td>-1</td>\n",
       "      <td>TPMT</td>\n",
       "      <td>HGNC</td>\n",
       "      <td>12014</td>\n",
       "      <td>protein_coding</td>\n",
       "      <td>YES</td>\n",
       "      <td>CCDS4543.1</td>\n",
       "      <td>ENSP00000312304</td>\n",
       "      <td>TPMT_HUMAN</td>\n",
       "      <td>NaN</td>\n",
       "      <td>UPI0000137261</td>\n",
       "      <td>deleterious(0.01)</td>\n",
       "      <td>possibly_damaging(0.833)</td>\n",
       "      <td>6/9</td>\n",
       "      <td>NaN</td>\n",
       "      <td>Pfam_domain:PF05724&amp;Superfamily_domains:SSF53335&amp;PIRSF_domain:PIRSF023956</td>\n",
       "      <td>ENST00000309983.4:c.460G&gt;A</td>\n",
       "      <td>ENSP00000312304.4:p.Ala154Thr</td>\n",
       "      <td>T:0.0170</td>\n",
       "      <td>T:0.01</td>\n",
       "      <td>T:0.04</td>\n",
       "      <td>NaN</td>\n",
       "      <td>T:0.03</td>\n",
       "      <td>T:0.009991</td>\n",
       "      <td>T:0.037558</td>\n",
       "      <td>pathogenic</td>\n",
       "      <td>NaN</td>\n",
       "      <td>18547414&amp;17366837&amp;23133420&amp;18662289&amp;18685564&amp;22385887&amp;21935354&amp;22274639</td>\n",
       "      <td>NaN</td>\n",
       "      <td>NaN</td>\n",
       "      <td>NaN</td>\n",
       "      <td>NaN</td>\n",
       "      <td>NaN</td>\n",
       "      <td>NaN</td>\n",
       "      <td>NaN</td>\n",
       "      <td>NaN</td>\n",
       "      <td>0.006928</td>\n",
       "      <td>0.044481</td>\n",
       "      <td>0.000116</td>\n",
       "      <td>0.030692</td>\n",
       "      <td>0.036299</td>\n",
       "      <td>0.023128</td>\n",
       "      <td>0.006239</td>\n",
       "      <td>0.027492</td>\n",
       "      <td>6-TPMT-18139228-C-T</td>\n",
       "    </tr>\n",
       "  </tbody>\n",
       "</table>\n",
       "</div>"
      ],
      "text/plain": [
       "               Transcript CHROM       POS REF ALT         ID        QUAL  \\\n",
       "2329397  transcript_00001     6  18139228   C   T  rs1800460  6514531.99   \n",
       "\n",
       "        FILTER var_type var_subtype    AC  AC_AFR  AC_AMR  AC_Adj  AC_EAS  \\\n",
       "2329397   PASS      snp          ts  3338      72     515    3337       1   \n",
       "\n",
       "         AC_FIN  AC_Hemi AC_Het  AC_Hom  AC_NFE  AC_OTH  AC_SAS     AF  \\\n",
       "2329397     203      NaN   3187      75    2422      21     103  0.027   \n",
       "\n",
       "             AN  AN_AFR  AN_AMR  AN_Adj  AN_EAS  AN_FIN  AN_NFE  AN_OTH  \\\n",
       "2329397  121412   10392   11578  121380    8654    6614   66724     908   \n",
       "\n",
       "         AN_SAS  BaseQRankSum  CCC  ClippingRankSum    DB       DP  DS  END  \\\n",
       "2329397   16510        -2.811  NaN           -0.077  True  3385201 NaN  NaN   \n",
       "\n",
       "            FS  GQ_MEAN  GQ_STDDEV  HWP  HaplotypeScore  Hemi_AFR  Hemi_AMR  \\\n",
       "2329397  0.537   162.23     296.24  NaN             NaN       NaN       NaN   \n",
       "\n",
       "         Hemi_EAS  Hemi_FIN  Hemi_NFE  Hemi_OTH  Hemi_SAS Het_AFR Het_AMR  \\\n",
       "2329397       NaN       NaN       NaN       NaN       NaN      70     487   \n",
       "\n",
       "        Het_EAS Het_FIN Het_NFE Het_OTH Het_SAS  Hom_AFR  Hom_AMR  Hom_EAS  \\\n",
       "2329397       1     199    2310      21      99        1       14        0   \n",
       "\n",
       "         Hom_FIN  Hom_NFE  Hom_OTH  Hom_SAS  InbreedingCoeff  MLEAC  MLEAF  \\\n",
       "2329397        2       56        0        2           0.0151    NaN    NaN   \n",
       "\n",
       "            MQ  MQ0  MQRankSum  NCC     QD  ReadPosRankSum  VQSLOD culprit  \\\n",
       "2329397  58.62    0      0.335    3  10.99           0.465    1.97      MQ   \n",
       "\n",
       "        Allele             Gene          Feature Feature_type  \\\n",
       "2329397      T  ENSG00000137364  ENST00000309983   Transcript   \n",
       "\n",
       "              Consequence cDNA_position CDS_position Protein_position  \\\n",
       "2329397  missense_variant           546          460              154   \n",
       "\n",
       "        Amino_acids   Codons  Existing_variation  ALLELE_NUM  DISTANCE  \\\n",
       "2329397         A/T  Gca/Aca  rs1800460&CM961382           1       NaN   \n",
       "\n",
       "         STRAND SYMBOL SYMBOL_SOURCE  HGNC_ID         BIOTYPE CANONICAL  \\\n",
       "2329397      -1   TPMT          HGNC    12014  protein_coding       YES   \n",
       "\n",
       "               CCDS             ENSP   SWISSPROT TREMBL        UNIPARC  \\\n",
       "2329397  CCDS4543.1  ENSP00000312304  TPMT_HUMAN    NaN  UPI0000137261   \n",
       "\n",
       "                      SIFT                  PolyPhen EXON INTRON  \\\n",
       "2329397  deleterious(0.01)  possibly_damaging(0.833)  6/9    NaN   \n",
       "\n",
       "                                                                           DOMAINS  \\\n",
       "2329397  Pfam_domain:PF05724&Superfamily_domains:SSF53335&PIRSF_domain:PIRSF023956   \n",
       "\n",
       "                              HGVSc                          HGVSp      GMAF  \\\n",
       "2329397  ENST00000309983.4:c.460G>A  ENSP00000312304.4:p.Ala154Thr  T:0.0170   \n",
       "\n",
       "        AFR_MAF AMR_MAF ASN_MAF EUR_MAF      AA_MAF      EA_MAF    CLIN_SIG  \\\n",
       "2329397  T:0.01  T:0.04     NaN  T:0.03  T:0.009991  T:0.037558  pathogenic   \n",
       "\n",
       "        SOMATIC  \\\n",
       "2329397     NaN   \n",
       "\n",
       "                                                                          PUBMED  \\\n",
       "2329397  18547414&17366837&23133420&18662289&18685564&22385887&21935354&22274639   \n",
       "\n",
       "         MOTIF_NAME  MOTIF_POS  HIGH_INF_POS  MOTIF_SCORE_CHANGE LoF_info  \\\n",
       "2329397         NaN        NaN           NaN                 NaN      NaN   \n",
       "\n",
       "        LoF_flags LoF_filter  LoF  COMP.AF_AFR  COMP.AF_AMR  COMP.AF_EAS  \\\n",
       "2329397       NaN        NaN  NaN     0.006928     0.044481     0.000116   \n",
       "\n",
       "         COMP.AF_FIN  COMP.AF_NFE  COMP.AF_OTH  COMP.AF_SAS  COMP.AF_Adj  \\\n",
       "2329397     0.030692     0.036299     0.023128     0.006239     0.027492   \n",
       "\n",
       "                     var_uid  \n",
       "2329397  6-TPMT-18139228-C-T  "
      ]
     },
     "execution_count": 406,
     "metadata": {},
     "output_type": "execute_result"
    }
   ],
   "source": [
    "variants.loc[variants.ID.str.contains(\"rs1800460\", na=False)]"
   ]
  },
  {
   "cell_type": "code",
   "execution_count": 408,
   "metadata": {
    "collapsed": false,
    "deletable": true,
    "editable": true,
    "run_control": {
     "frozen": false,
     "read_only": false
    }
   },
   "outputs": [
    {
     "data": {
      "text/html": [
       "<div>\n",
       "<table border=\"1\" class=\"dataframe\">\n",
       "  <thead>\n",
       "    <tr style=\"text-align: right;\">\n",
       "      <th></th>\n",
       "      <th>Transcript</th>\n",
       "      <th>CHROM</th>\n",
       "      <th>POS</th>\n",
       "      <th>REF</th>\n",
       "      <th>ALT</th>\n",
       "      <th>ID</th>\n",
       "      <th>QUAL</th>\n",
       "      <th>FILTER</th>\n",
       "      <th>var_type</th>\n",
       "      <th>var_subtype</th>\n",
       "      <th>AC</th>\n",
       "      <th>AC_AFR</th>\n",
       "      <th>AC_AMR</th>\n",
       "      <th>AC_Adj</th>\n",
       "      <th>AC_EAS</th>\n",
       "      <th>AC_FIN</th>\n",
       "      <th>AC_Hemi</th>\n",
       "      <th>AC_Het</th>\n",
       "      <th>AC_Hom</th>\n",
       "      <th>AC_NFE</th>\n",
       "      <th>AC_OTH</th>\n",
       "      <th>AC_SAS</th>\n",
       "      <th>AF</th>\n",
       "      <th>AN</th>\n",
       "      <th>AN_AFR</th>\n",
       "      <th>AN_AMR</th>\n",
       "      <th>AN_Adj</th>\n",
       "      <th>AN_EAS</th>\n",
       "      <th>AN_FIN</th>\n",
       "      <th>AN_NFE</th>\n",
       "      <th>AN_OTH</th>\n",
       "      <th>AN_SAS</th>\n",
       "      <th>BaseQRankSum</th>\n",
       "      <th>CCC</th>\n",
       "      <th>ClippingRankSum</th>\n",
       "      <th>DB</th>\n",
       "      <th>DP</th>\n",
       "      <th>DS</th>\n",
       "      <th>END</th>\n",
       "      <th>FS</th>\n",
       "      <th>GQ_MEAN</th>\n",
       "      <th>GQ_STDDEV</th>\n",
       "      <th>HWP</th>\n",
       "      <th>HaplotypeScore</th>\n",
       "      <th>Hemi_AFR</th>\n",
       "      <th>Hemi_AMR</th>\n",
       "      <th>Hemi_EAS</th>\n",
       "      <th>Hemi_FIN</th>\n",
       "      <th>Hemi_NFE</th>\n",
       "      <th>Hemi_OTH</th>\n",
       "      <th>Hemi_SAS</th>\n",
       "      <th>Het_AFR</th>\n",
       "      <th>Het_AMR</th>\n",
       "      <th>Het_EAS</th>\n",
       "      <th>Het_FIN</th>\n",
       "      <th>Het_NFE</th>\n",
       "      <th>Het_OTH</th>\n",
       "      <th>Het_SAS</th>\n",
       "      <th>Hom_AFR</th>\n",
       "      <th>Hom_AMR</th>\n",
       "      <th>Hom_EAS</th>\n",
       "      <th>Hom_FIN</th>\n",
       "      <th>Hom_NFE</th>\n",
       "      <th>Hom_OTH</th>\n",
       "      <th>Hom_SAS</th>\n",
       "      <th>InbreedingCoeff</th>\n",
       "      <th>MLEAC</th>\n",
       "      <th>MLEAF</th>\n",
       "      <th>MQ</th>\n",
       "      <th>MQ0</th>\n",
       "      <th>MQRankSum</th>\n",
       "      <th>NCC</th>\n",
       "      <th>QD</th>\n",
       "      <th>ReadPosRankSum</th>\n",
       "      <th>VQSLOD</th>\n",
       "      <th>culprit</th>\n",
       "      <th>Allele</th>\n",
       "      <th>Gene</th>\n",
       "      <th>Feature</th>\n",
       "      <th>Feature_type</th>\n",
       "      <th>Consequence</th>\n",
       "      <th>cDNA_position</th>\n",
       "      <th>CDS_position</th>\n",
       "      <th>Protein_position</th>\n",
       "      <th>Amino_acids</th>\n",
       "      <th>Codons</th>\n",
       "      <th>Existing_variation</th>\n",
       "      <th>ALLELE_NUM</th>\n",
       "      <th>DISTANCE</th>\n",
       "      <th>STRAND</th>\n",
       "      <th>SYMBOL</th>\n",
       "      <th>SYMBOL_SOURCE</th>\n",
       "      <th>HGNC_ID</th>\n",
       "      <th>BIOTYPE</th>\n",
       "      <th>CANONICAL</th>\n",
       "      <th>CCDS</th>\n",
       "      <th>ENSP</th>\n",
       "      <th>SWISSPROT</th>\n",
       "      <th>TREMBL</th>\n",
       "      <th>UNIPARC</th>\n",
       "      <th>SIFT</th>\n",
       "      <th>PolyPhen</th>\n",
       "      <th>EXON</th>\n",
       "      <th>INTRON</th>\n",
       "      <th>DOMAINS</th>\n",
       "      <th>HGVSc</th>\n",
       "      <th>HGVSp</th>\n",
       "      <th>GMAF</th>\n",
       "      <th>AFR_MAF</th>\n",
       "      <th>AMR_MAF</th>\n",
       "      <th>ASN_MAF</th>\n",
       "      <th>EUR_MAF</th>\n",
       "      <th>AA_MAF</th>\n",
       "      <th>EA_MAF</th>\n",
       "      <th>CLIN_SIG</th>\n",
       "      <th>SOMATIC</th>\n",
       "      <th>PUBMED</th>\n",
       "      <th>MOTIF_NAME</th>\n",
       "      <th>MOTIF_POS</th>\n",
       "      <th>HIGH_INF_POS</th>\n",
       "      <th>MOTIF_SCORE_CHANGE</th>\n",
       "      <th>LoF_info</th>\n",
       "      <th>LoF_flags</th>\n",
       "      <th>LoF_filter</th>\n",
       "      <th>LoF</th>\n",
       "      <th>COMP.AF_AFR</th>\n",
       "      <th>COMP.AF_AMR</th>\n",
       "      <th>COMP.AF_EAS</th>\n",
       "      <th>COMP.AF_FIN</th>\n",
       "      <th>COMP.AF_NFE</th>\n",
       "      <th>COMP.AF_OTH</th>\n",
       "      <th>COMP.AF_SAS</th>\n",
       "      <th>COMP.AF_Adj</th>\n",
       "      <th>var_uid</th>\n",
       "    </tr>\n",
       "  </thead>\n",
       "  <tbody>\n",
       "    <tr>\n",
       "      <th>2329318</th>\n",
       "      <td>transcript_00001</td>\n",
       "      <td>6</td>\n",
       "      <td>18130918</td>\n",
       "      <td>T</td>\n",
       "      <td>C</td>\n",
       "      <td>rs1142345</td>\n",
       "      <td>7395532.41</td>\n",
       "      <td>PASS</td>\n",
       "      <td>snp</td>\n",
       "      <td>ts</td>\n",
       "      <td>4443</td>\n",
       "      <td>547</td>\n",
       "      <td>555</td>\n",
       "      <td>4435</td>\n",
       "      <td>114</td>\n",
       "      <td>224</td>\n",
       "      <td>NaN</td>\n",
       "      <td>4215</td>\n",
       "      <td>110</td>\n",
       "      <td>2671</td>\n",
       "      <td>29</td>\n",
       "      <td>295</td>\n",
       "      <td>0.037</td>\n",
       "      <td>121392</td>\n",
       "      <td>10106</td>\n",
       "      <td>11546</td>\n",
       "      <td>120882</td>\n",
       "      <td>8640</td>\n",
       "      <td>6612</td>\n",
       "      <td>66576</td>\n",
       "      <td>900</td>\n",
       "      <td>16502</td>\n",
       "      <td>3.42</td>\n",
       "      <td>NaN</td>\n",
       "      <td>-0.379</td>\n",
       "      <td>True</td>\n",
       "      <td>1991650</td>\n",
       "      <td>NaN</td>\n",
       "      <td>NaN</td>\n",
       "      <td>0.64</td>\n",
       "      <td>133.0</td>\n",
       "      <td>273.59</td>\n",
       "      <td>NaN</td>\n",
       "      <td>NaN</td>\n",
       "      <td>NaN</td>\n",
       "      <td>NaN</td>\n",
       "      <td>NaN</td>\n",
       "      <td>NaN</td>\n",
       "      <td>NaN</td>\n",
       "      <td>NaN</td>\n",
       "      <td>NaN</td>\n",
       "      <td>511</td>\n",
       "      <td>521</td>\n",
       "      <td>114</td>\n",
       "      <td>218</td>\n",
       "      <td>2537</td>\n",
       "      <td>27</td>\n",
       "      <td>287</td>\n",
       "      <td>18</td>\n",
       "      <td>17</td>\n",
       "      <td>0</td>\n",
       "      <td>3</td>\n",
       "      <td>67</td>\n",
       "      <td>1</td>\n",
       "      <td>4</td>\n",
       "      <td>0.0089</td>\n",
       "      <td>NaN</td>\n",
       "      <td>NaN</td>\n",
       "      <td>59.58</td>\n",
       "      <td>0</td>\n",
       "      <td>0.161</td>\n",
       "      <td>32</td>\n",
       "      <td>15.15</td>\n",
       "      <td>0.473</td>\n",
       "      <td>4.93</td>\n",
       "      <td>MQ</td>\n",
       "      <td>C</td>\n",
       "      <td>ENSG00000137364</td>\n",
       "      <td>ENST00000309983</td>\n",
       "      <td>Transcript</td>\n",
       "      <td>missense_variant</td>\n",
       "      <td>805</td>\n",
       "      <td>719</td>\n",
       "      <td>240</td>\n",
       "      <td>Y/C</td>\n",
       "      <td>tAt/tGt</td>\n",
       "      <td>rs1142345&amp;CM961383</td>\n",
       "      <td>1</td>\n",
       "      <td>NaN</td>\n",
       "      <td>-1</td>\n",
       "      <td>TPMT</td>\n",
       "      <td>HGNC</td>\n",
       "      <td>12014</td>\n",
       "      <td>protein_coding</td>\n",
       "      <td>YES</td>\n",
       "      <td>CCDS4543.1</td>\n",
       "      <td>ENSP00000312304</td>\n",
       "      <td>TPMT_HUMAN</td>\n",
       "      <td>NaN</td>\n",
       "      <td>UPI0000137261</td>\n",
       "      <td>deleterious(0.03)</td>\n",
       "      <td>probably_damaging(0.997)</td>\n",
       "      <td>9/9</td>\n",
       "      <td>NaN</td>\n",
       "      <td>Pfam_domain:PF05724&amp;Superfamily_domains:SSF53335&amp;PIRSF_domain:PIRSF023956</td>\n",
       "      <td>ENST00000309983.4:c.719A&gt;G</td>\n",
       "      <td>ENSP00000312304.4:p.Tyr240Cys</td>\n",
       "      <td>C:0.0459</td>\n",
       "      <td>C:0.10</td>\n",
       "      <td>C:0.07</td>\n",
       "      <td>C:0.02</td>\n",
       "      <td>C:0.03</td>\n",
       "      <td>C:0.052655</td>\n",
       "      <td>C:0.041715</td>\n",
       "      <td>pathogenic</td>\n",
       "      <td>NaN</td>\n",
       "      <td>18547414&amp;23133420&amp;18662289&amp;18685564&amp;22385887&amp;22846425&amp;21935354&amp;22274639&amp;22977575&amp;23737827</td>\n",
       "      <td>NaN</td>\n",
       "      <td>NaN</td>\n",
       "      <td>NaN</td>\n",
       "      <td>NaN</td>\n",
       "      <td>NaN</td>\n",
       "      <td>NaN</td>\n",
       "      <td>NaN</td>\n",
       "      <td>NaN</td>\n",
       "      <td>0.054126</td>\n",
       "      <td>0.048069</td>\n",
       "      <td>0.013194</td>\n",
       "      <td>0.033878</td>\n",
       "      <td>0.04012</td>\n",
       "      <td>0.032222</td>\n",
       "      <td>0.017877</td>\n",
       "      <td>0.036689</td>\n",
       "      <td>6-TPMT-18130918-T-C</td>\n",
       "    </tr>\n",
       "  </tbody>\n",
       "</table>\n",
       "</div>"
      ],
      "text/plain": [
       "               Transcript CHROM       POS REF ALT         ID        QUAL  \\\n",
       "2329318  transcript_00001     6  18130918   T   C  rs1142345  7395532.41   \n",
       "\n",
       "        FILTER var_type var_subtype    AC  AC_AFR  AC_AMR  AC_Adj  AC_EAS  \\\n",
       "2329318   PASS      snp          ts  4443     547     555    4435     114   \n",
       "\n",
       "         AC_FIN  AC_Hemi AC_Het  AC_Hom  AC_NFE  AC_OTH  AC_SAS     AF  \\\n",
       "2329318     224      NaN   4215     110    2671      29     295  0.037   \n",
       "\n",
       "             AN  AN_AFR  AN_AMR  AN_Adj  AN_EAS  AN_FIN  AN_NFE  AN_OTH  \\\n",
       "2329318  121392   10106   11546  120882    8640    6612   66576     900   \n",
       "\n",
       "         AN_SAS  BaseQRankSum  CCC  ClippingRankSum    DB       DP  DS  END  \\\n",
       "2329318   16502          3.42  NaN           -0.379  True  1991650 NaN  NaN   \n",
       "\n",
       "           FS  GQ_MEAN  GQ_STDDEV  HWP  HaplotypeScore  Hemi_AFR  Hemi_AMR  \\\n",
       "2329318  0.64    133.0     273.59  NaN             NaN       NaN       NaN   \n",
       "\n",
       "         Hemi_EAS  Hemi_FIN  Hemi_NFE  Hemi_OTH  Hemi_SAS Het_AFR Het_AMR  \\\n",
       "2329318       NaN       NaN       NaN       NaN       NaN     511     521   \n",
       "\n",
       "        Het_EAS Het_FIN Het_NFE Het_OTH Het_SAS  Hom_AFR  Hom_AMR  Hom_EAS  \\\n",
       "2329318     114     218    2537      27     287       18       17        0   \n",
       "\n",
       "         Hom_FIN  Hom_NFE  Hom_OTH  Hom_SAS  InbreedingCoeff  MLEAC  MLEAF  \\\n",
       "2329318        3       67        1        4           0.0089    NaN    NaN   \n",
       "\n",
       "            MQ  MQ0  MQRankSum  NCC     QD  ReadPosRankSum  VQSLOD culprit  \\\n",
       "2329318  59.58    0      0.161   32  15.15           0.473    4.93      MQ   \n",
       "\n",
       "        Allele             Gene          Feature Feature_type  \\\n",
       "2329318      C  ENSG00000137364  ENST00000309983   Transcript   \n",
       "\n",
       "              Consequence cDNA_position CDS_position Protein_position  \\\n",
       "2329318  missense_variant           805          719              240   \n",
       "\n",
       "        Amino_acids   Codons  Existing_variation  ALLELE_NUM  DISTANCE  \\\n",
       "2329318         Y/C  tAt/tGt  rs1142345&CM961383           1       NaN   \n",
       "\n",
       "         STRAND SYMBOL SYMBOL_SOURCE  HGNC_ID         BIOTYPE CANONICAL  \\\n",
       "2329318      -1   TPMT          HGNC    12014  protein_coding       YES   \n",
       "\n",
       "               CCDS             ENSP   SWISSPROT TREMBL        UNIPARC  \\\n",
       "2329318  CCDS4543.1  ENSP00000312304  TPMT_HUMAN    NaN  UPI0000137261   \n",
       "\n",
       "                      SIFT                  PolyPhen EXON INTRON  \\\n",
       "2329318  deleterious(0.03)  probably_damaging(0.997)  9/9    NaN   \n",
       "\n",
       "                                                                           DOMAINS  \\\n",
       "2329318  Pfam_domain:PF05724&Superfamily_domains:SSF53335&PIRSF_domain:PIRSF023956   \n",
       "\n",
       "                              HGVSc                          HGVSp      GMAF  \\\n",
       "2329318  ENST00000309983.4:c.719A>G  ENSP00000312304.4:p.Tyr240Cys  C:0.0459   \n",
       "\n",
       "        AFR_MAF AMR_MAF ASN_MAF EUR_MAF      AA_MAF      EA_MAF    CLIN_SIG  \\\n",
       "2329318  C:0.10  C:0.07  C:0.02  C:0.03  C:0.052655  C:0.041715  pathogenic   \n",
       "\n",
       "        SOMATIC  \\\n",
       "2329318     NaN   \n",
       "\n",
       "                                                                                            PUBMED  \\\n",
       "2329318  18547414&23133420&18662289&18685564&22385887&22846425&21935354&22274639&22977575&23737827   \n",
       "\n",
       "         MOTIF_NAME  MOTIF_POS  HIGH_INF_POS  MOTIF_SCORE_CHANGE LoF_info  \\\n",
       "2329318         NaN        NaN           NaN                 NaN      NaN   \n",
       "\n",
       "        LoF_flags LoF_filter  LoF  COMP.AF_AFR  COMP.AF_AMR  COMP.AF_EAS  \\\n",
       "2329318       NaN        NaN  NaN     0.054126     0.048069     0.013194   \n",
       "\n",
       "         COMP.AF_FIN  COMP.AF_NFE  COMP.AF_OTH  COMP.AF_SAS  COMP.AF_Adj  \\\n",
       "2329318     0.033878      0.04012     0.032222     0.017877     0.036689   \n",
       "\n",
       "                     var_uid  \n",
       "2329318  6-TPMT-18130918-T-C  "
      ]
     },
     "execution_count": 408,
     "metadata": {},
     "output_type": "execute_result"
    }
   ],
   "source": [
    "variants.loc[variants.ID == \"rs1142345\"]"
   ]
  },
  {
   "cell_type": "code",
   "execution_count": 419,
   "metadata": {
    "collapsed": false,
    "deletable": true,
    "editable": true,
    "run_control": {
     "frozen": false,
     "read_only": false
    }
   },
   "outputs": [
    {
     "data": {
      "text/html": [
       "<div>\n",
       "<table border=\"1\" class=\"dataframe\">\n",
       "  <thead>\n",
       "    <tr style=\"text-align: right;\">\n",
       "      <th></th>\n",
       "      <th>Transcript</th>\n",
       "      <th>CHROM</th>\n",
       "      <th>POS</th>\n",
       "      <th>REF</th>\n",
       "      <th>ALT</th>\n",
       "      <th>ID</th>\n",
       "      <th>QUAL</th>\n",
       "      <th>FILTER</th>\n",
       "      <th>var_type</th>\n",
       "      <th>var_subtype</th>\n",
       "      <th>AC</th>\n",
       "      <th>AC_AFR</th>\n",
       "      <th>AC_AMR</th>\n",
       "      <th>AC_Adj</th>\n",
       "      <th>AC_EAS</th>\n",
       "      <th>AC_FIN</th>\n",
       "      <th>AC_Hemi</th>\n",
       "      <th>AC_Het</th>\n",
       "      <th>AC_Hom</th>\n",
       "      <th>AC_NFE</th>\n",
       "      <th>AC_OTH</th>\n",
       "      <th>AC_SAS</th>\n",
       "      <th>AF</th>\n",
       "      <th>AN</th>\n",
       "      <th>AN_AFR</th>\n",
       "      <th>AN_AMR</th>\n",
       "      <th>AN_Adj</th>\n",
       "      <th>AN_EAS</th>\n",
       "      <th>AN_FIN</th>\n",
       "      <th>AN_NFE</th>\n",
       "      <th>AN_OTH</th>\n",
       "      <th>AN_SAS</th>\n",
       "      <th>BaseQRankSum</th>\n",
       "      <th>CCC</th>\n",
       "      <th>ClippingRankSum</th>\n",
       "      <th>DB</th>\n",
       "      <th>DP</th>\n",
       "      <th>DS</th>\n",
       "      <th>END</th>\n",
       "      <th>FS</th>\n",
       "      <th>GQ_MEAN</th>\n",
       "      <th>GQ_STDDEV</th>\n",
       "      <th>HWP</th>\n",
       "      <th>HaplotypeScore</th>\n",
       "      <th>Hemi_AFR</th>\n",
       "      <th>Hemi_AMR</th>\n",
       "      <th>Hemi_EAS</th>\n",
       "      <th>Hemi_FIN</th>\n",
       "      <th>Hemi_NFE</th>\n",
       "      <th>Hemi_OTH</th>\n",
       "      <th>Hemi_SAS</th>\n",
       "      <th>Het_AFR</th>\n",
       "      <th>Het_AMR</th>\n",
       "      <th>Het_EAS</th>\n",
       "      <th>Het_FIN</th>\n",
       "      <th>Het_NFE</th>\n",
       "      <th>Het_OTH</th>\n",
       "      <th>Het_SAS</th>\n",
       "      <th>Hom_AFR</th>\n",
       "      <th>Hom_AMR</th>\n",
       "      <th>Hom_EAS</th>\n",
       "      <th>Hom_FIN</th>\n",
       "      <th>Hom_NFE</th>\n",
       "      <th>Hom_OTH</th>\n",
       "      <th>Hom_SAS</th>\n",
       "      <th>InbreedingCoeff</th>\n",
       "      <th>MLEAC</th>\n",
       "      <th>MLEAF</th>\n",
       "      <th>MQ</th>\n",
       "      <th>MQ0</th>\n",
       "      <th>MQRankSum</th>\n",
       "      <th>NCC</th>\n",
       "      <th>QD</th>\n",
       "      <th>ReadPosRankSum</th>\n",
       "      <th>VQSLOD</th>\n",
       "      <th>culprit</th>\n",
       "      <th>Allele</th>\n",
       "      <th>Gene</th>\n",
       "      <th>Feature</th>\n",
       "      <th>Feature_type</th>\n",
       "      <th>Consequence</th>\n",
       "      <th>cDNA_position</th>\n",
       "      <th>CDS_position</th>\n",
       "      <th>Protein_position</th>\n",
       "      <th>Amino_acids</th>\n",
       "      <th>Codons</th>\n",
       "      <th>Existing_variation</th>\n",
       "      <th>ALLELE_NUM</th>\n",
       "      <th>DISTANCE</th>\n",
       "      <th>STRAND</th>\n",
       "      <th>SYMBOL</th>\n",
       "      <th>SYMBOL_SOURCE</th>\n",
       "      <th>HGNC_ID</th>\n",
       "      <th>BIOTYPE</th>\n",
       "      <th>CANONICAL</th>\n",
       "      <th>CCDS</th>\n",
       "      <th>ENSP</th>\n",
       "      <th>SWISSPROT</th>\n",
       "      <th>TREMBL</th>\n",
       "      <th>UNIPARC</th>\n",
       "      <th>SIFT</th>\n",
       "      <th>PolyPhen</th>\n",
       "      <th>EXON</th>\n",
       "      <th>INTRON</th>\n",
       "      <th>DOMAINS</th>\n",
       "      <th>HGVSc</th>\n",
       "      <th>HGVSp</th>\n",
       "      <th>GMAF</th>\n",
       "      <th>AFR_MAF</th>\n",
       "      <th>AMR_MAF</th>\n",
       "      <th>ASN_MAF</th>\n",
       "      <th>EUR_MAF</th>\n",
       "      <th>AA_MAF</th>\n",
       "      <th>EA_MAF</th>\n",
       "      <th>CLIN_SIG</th>\n",
       "      <th>SOMATIC</th>\n",
       "      <th>PUBMED</th>\n",
       "      <th>MOTIF_NAME</th>\n",
       "      <th>MOTIF_POS</th>\n",
       "      <th>HIGH_INF_POS</th>\n",
       "      <th>MOTIF_SCORE_CHANGE</th>\n",
       "      <th>LoF_info</th>\n",
       "      <th>LoF_flags</th>\n",
       "      <th>LoF_filter</th>\n",
       "      <th>LoF</th>\n",
       "      <th>COMP.AF_AFR</th>\n",
       "      <th>COMP.AF_AMR</th>\n",
       "      <th>COMP.AF_EAS</th>\n",
       "      <th>COMP.AF_FIN</th>\n",
       "      <th>COMP.AF_NFE</th>\n",
       "      <th>COMP.AF_OTH</th>\n",
       "      <th>COMP.AF_SAS</th>\n",
       "      <th>COMP.AF_Adj</th>\n",
       "      <th>var_uid</th>\n",
       "    </tr>\n",
       "  </thead>\n",
       "  <tbody>\n",
       "    <tr>\n",
       "      <th>6685352</th>\n",
       "      <td>transcript_00001</td>\n",
       "      <td>22</td>\n",
       "      <td>42523943</td>\n",
       "      <td>A</td>\n",
       "      <td>G</td>\n",
       "      <td>rs16947</td>\n",
       "      <td>2.141049e+08</td>\n",
       "      <td>PASS</td>\n",
       "      <td>snp</td>\n",
       "      <td>ts</td>\n",
       "      <td>79571</td>\n",
       "      <td>4962</td>\n",
       "      <td>8676</td>\n",
       "      <td>79483</td>\n",
       "      <td>7328</td>\n",
       "      <td>4012</td>\n",
       "      <td>NaN</td>\n",
       "      <td>24553</td>\n",
       "      <td>27465</td>\n",
       "      <td>43736</td>\n",
       "      <td>557</td>\n",
       "      <td>10212</td>\n",
       "      <td>0.656</td>\n",
       "      <td>121252</td>\n",
       "      <td>10334</td>\n",
       "      <td>11546</td>\n",
       "      <td>121042</td>\n",
       "      <td>8606</td>\n",
       "      <td>6610</td>\n",
       "      <td>66564</td>\n",
       "      <td>908</td>\n",
       "      <td>16474</td>\n",
       "      <td>1.12</td>\n",
       "      <td>NaN</td>\n",
       "      <td>-0.22</td>\n",
       "      <td>True</td>\n",
       "      <td>6904933</td>\n",
       "      <td>NaN</td>\n",
       "      <td>NaN</td>\n",
       "      <td>1.124</td>\n",
       "      <td>756.91</td>\n",
       "      <td>783.83</td>\n",
       "      <td>NaN</td>\n",
       "      <td>NaN</td>\n",
       "      <td>NaN</td>\n",
       "      <td>NaN</td>\n",
       "      <td>NaN</td>\n",
       "      <td>NaN</td>\n",
       "      <td>NaN</td>\n",
       "      <td>NaN</td>\n",
       "      <td>NaN</td>\n",
       "      <td>2342</td>\n",
       "      <td>1992</td>\n",
       "      <td>1024</td>\n",
       "      <td>1518</td>\n",
       "      <td>13848</td>\n",
       "      <td>209</td>\n",
       "      <td>3620</td>\n",
       "      <td>1310</td>\n",
       "      <td>3342</td>\n",
       "      <td>3152</td>\n",
       "      <td>1247</td>\n",
       "      <td>14944</td>\n",
       "      <td>174</td>\n",
       "      <td>3296</td>\n",
       "      <td>0.0986</td>\n",
       "      <td>NaN</td>\n",
       "      <td>NaN</td>\n",
       "      <td>57.33</td>\n",
       "      <td>0</td>\n",
       "      <td>-0.098</td>\n",
       "      <td>118</td>\n",
       "      <td>22.76</td>\n",
       "      <td>0.3</td>\n",
       "      <td>0.838</td>\n",
       "      <td>MQ</td>\n",
       "      <td>G</td>\n",
       "      <td>ENSG00000100197</td>\n",
       "      <td>ENST00000360608</td>\n",
       "      <td>Transcript</td>\n",
       "      <td>missense_variant</td>\n",
       "      <td>1001</td>\n",
       "      <td>886</td>\n",
       "      <td>296</td>\n",
       "      <td>C/R</td>\n",
       "      <td>Tgc/Cgc</td>\n",
       "      <td>rs16947&amp;CM930187&amp;COSM1130422&amp;COSM1130423</td>\n",
       "      <td>1</td>\n",
       "      <td>NaN</td>\n",
       "      <td>-1</td>\n",
       "      <td>CYP2D6</td>\n",
       "      <td>HGNC</td>\n",
       "      <td>2625</td>\n",
       "      <td>protein_coding</td>\n",
       "      <td>YES</td>\n",
       "      <td>CCDS46721.1</td>\n",
       "      <td>ENSP00000353820</td>\n",
       "      <td>NaN</td>\n",
       "      <td>Q6NWU0_HUMAN&amp;Q007T9_HUMAN</td>\n",
       "      <td>UPI0000157756</td>\n",
       "      <td>tolerated(0.35)</td>\n",
       "      <td>benign(0)</td>\n",
       "      <td>6/9</td>\n",
       "      <td>NaN</td>\n",
       "      <td>Pfam_domain:PF00067&amp;Prints_domain:PR00463&amp;Prints_domain:PR01686&amp;Prints_domain:PR00465&amp;Superfamily_domains:SSF48264</td>\n",
       "      <td>ENST00000360608.5:c.886T&gt;C</td>\n",
       "      <td>ENSP00000353820.5:p.Cys296Arg</td>\n",
       "      <td>A:0.3425</td>\n",
       "      <td>G:0.41</td>\n",
       "      <td>G:0.69</td>\n",
       "      <td>G:0.85</td>\n",
       "      <td>G:0.66</td>\n",
       "      <td>G:0.486566</td>\n",
       "      <td>G:0.657282</td>\n",
       "      <td>NaN</td>\n",
       "      <td>0&amp;0&amp;1&amp;1</td>\n",
       "      <td>18547414&amp;18698231&amp;23133420&amp;21071160&amp;21840870&amp;22688145&amp;23130019&amp;18632250&amp;20601196&amp;20889555&amp;20847277&amp;22688139</td>\n",
       "      <td>NaN</td>\n",
       "      <td>NaN</td>\n",
       "      <td>NaN</td>\n",
       "      <td>NaN</td>\n",
       "      <td>NaN</td>\n",
       "      <td>NaN</td>\n",
       "      <td>NaN</td>\n",
       "      <td>NaN</td>\n",
       "      <td>0.480163</td>\n",
       "      <td>0.751429</td>\n",
       "      <td>0.851499</td>\n",
       "      <td>0.606959</td>\n",
       "      <td>0.657052</td>\n",
       "      <td>0.613436</td>\n",
       "      <td>0.619886</td>\n",
       "      <td>0.656656</td>\n",
       "      <td>22-CYP2D6-42523943-A-G</td>\n",
       "    </tr>\n",
       "    <tr>\n",
       "      <th>6685353</th>\n",
       "      <td>transcript_00003</td>\n",
       "      <td>22</td>\n",
       "      <td>42523943</td>\n",
       "      <td>A</td>\n",
       "      <td>G</td>\n",
       "      <td>rs16947</td>\n",
       "      <td>2.141049e+08</td>\n",
       "      <td>PASS</td>\n",
       "      <td>snp</td>\n",
       "      <td>ts</td>\n",
       "      <td>79571</td>\n",
       "      <td>4962</td>\n",
       "      <td>8676</td>\n",
       "      <td>79483</td>\n",
       "      <td>7328</td>\n",
       "      <td>4012</td>\n",
       "      <td>NaN</td>\n",
       "      <td>24553</td>\n",
       "      <td>27465</td>\n",
       "      <td>43736</td>\n",
       "      <td>557</td>\n",
       "      <td>10212</td>\n",
       "      <td>0.656</td>\n",
       "      <td>121252</td>\n",
       "      <td>10334</td>\n",
       "      <td>11546</td>\n",
       "      <td>121042</td>\n",
       "      <td>8606</td>\n",
       "      <td>6610</td>\n",
       "      <td>66564</td>\n",
       "      <td>908</td>\n",
       "      <td>16474</td>\n",
       "      <td>1.12</td>\n",
       "      <td>NaN</td>\n",
       "      <td>-0.22</td>\n",
       "      <td>True</td>\n",
       "      <td>6904933</td>\n",
       "      <td>NaN</td>\n",
       "      <td>NaN</td>\n",
       "      <td>1.124</td>\n",
       "      <td>756.91</td>\n",
       "      <td>783.83</td>\n",
       "      <td>NaN</td>\n",
       "      <td>NaN</td>\n",
       "      <td>NaN</td>\n",
       "      <td>NaN</td>\n",
       "      <td>NaN</td>\n",
       "      <td>NaN</td>\n",
       "      <td>NaN</td>\n",
       "      <td>NaN</td>\n",
       "      <td>NaN</td>\n",
       "      <td>2342</td>\n",
       "      <td>1992</td>\n",
       "      <td>1024</td>\n",
       "      <td>1518</td>\n",
       "      <td>13848</td>\n",
       "      <td>209</td>\n",
       "      <td>3620</td>\n",
       "      <td>1310</td>\n",
       "      <td>3342</td>\n",
       "      <td>3152</td>\n",
       "      <td>1247</td>\n",
       "      <td>14944</td>\n",
       "      <td>174</td>\n",
       "      <td>3296</td>\n",
       "      <td>0.0986</td>\n",
       "      <td>NaN</td>\n",
       "      <td>NaN</td>\n",
       "      <td>57.33</td>\n",
       "      <td>0</td>\n",
       "      <td>-0.098</td>\n",
       "      <td>118</td>\n",
       "      <td>22.76</td>\n",
       "      <td>0.3</td>\n",
       "      <td>0.838</td>\n",
       "      <td>MQ</td>\n",
       "      <td>G</td>\n",
       "      <td>ENSG00000237037</td>\n",
       "      <td>ENST00000416037</td>\n",
       "      <td>Transcript</td>\n",
       "      <td>intron_variant&amp;non_coding_transcript_variant</td>\n",
       "      <td>NaN</td>\n",
       "      <td>NaN</td>\n",
       "      <td>NaN</td>\n",
       "      <td>NaN</td>\n",
       "      <td>NaN</td>\n",
       "      <td>rs16947&amp;CM930187&amp;COSM1130422&amp;COSM1130423</td>\n",
       "      <td>1</td>\n",
       "      <td>NaN</td>\n",
       "      <td>1</td>\n",
       "      <td>NDUFA6-AS1</td>\n",
       "      <td>HGNC</td>\n",
       "      <td>45273</td>\n",
       "      <td>antisense</td>\n",
       "      <td>YES</td>\n",
       "      <td>NaN</td>\n",
       "      <td>NaN</td>\n",
       "      <td>NaN</td>\n",
       "      <td>NaN</td>\n",
       "      <td>NaN</td>\n",
       "      <td>NaN</td>\n",
       "      <td>NaN</td>\n",
       "      <td>NaN</td>\n",
       "      <td>5/6</td>\n",
       "      <td>NaN</td>\n",
       "      <td>ENST00000416037.2:n.1718+2531A&gt;G</td>\n",
       "      <td>NaN</td>\n",
       "      <td>A:0.3425</td>\n",
       "      <td>G:0.41</td>\n",
       "      <td>G:0.69</td>\n",
       "      <td>G:0.85</td>\n",
       "      <td>G:0.66</td>\n",
       "      <td>G:0.486566</td>\n",
       "      <td>G:0.657282</td>\n",
       "      <td>NaN</td>\n",
       "      <td>0&amp;0&amp;1&amp;1</td>\n",
       "      <td>18547414&amp;18698231&amp;23133420&amp;21071160&amp;21840870&amp;22688145&amp;23130019&amp;18632250&amp;20601196&amp;20889555&amp;20847277&amp;22688139</td>\n",
       "      <td>NaN</td>\n",
       "      <td>NaN</td>\n",
       "      <td>NaN</td>\n",
       "      <td>NaN</td>\n",
       "      <td>NaN</td>\n",
       "      <td>NaN</td>\n",
       "      <td>NaN</td>\n",
       "      <td>NaN</td>\n",
       "      <td>0.480163</td>\n",
       "      <td>0.751429</td>\n",
       "      <td>0.851499</td>\n",
       "      <td>0.606959</td>\n",
       "      <td>0.657052</td>\n",
       "      <td>0.613436</td>\n",
       "      <td>0.619886</td>\n",
       "      <td>0.656656</td>\n",
       "      <td>22-NDUFA6-AS1-42523943-A-G</td>\n",
       "    </tr>\n",
       "  </tbody>\n",
       "</table>\n",
       "</div>"
      ],
      "text/plain": [
       "               Transcript CHROM       POS REF ALT       ID          QUAL  \\\n",
       "6685352  transcript_00001    22  42523943   A   G  rs16947  2.141049e+08   \n",
       "6685353  transcript_00003    22  42523943   A   G  rs16947  2.141049e+08   \n",
       "\n",
       "        FILTER var_type var_subtype     AC  AC_AFR  AC_AMR  AC_Adj  AC_EAS  \\\n",
       "6685352   PASS      snp          ts  79571    4962    8676   79483    7328   \n",
       "6685353   PASS      snp          ts  79571    4962    8676   79483    7328   \n",
       "\n",
       "         AC_FIN  AC_Hemi AC_Het  AC_Hom  AC_NFE  AC_OTH  AC_SAS     AF  \\\n",
       "6685352    4012      NaN  24553   27465   43736     557   10212  0.656   \n",
       "6685353    4012      NaN  24553   27465   43736     557   10212  0.656   \n",
       "\n",
       "             AN  AN_AFR  AN_AMR  AN_Adj  AN_EAS  AN_FIN  AN_NFE  AN_OTH  \\\n",
       "6685352  121252   10334   11546  121042    8606    6610   66564     908   \n",
       "6685353  121252   10334   11546  121042    8606    6610   66564     908   \n",
       "\n",
       "         AN_SAS  BaseQRankSum  CCC  ClippingRankSum    DB       DP  DS  END  \\\n",
       "6685352   16474          1.12  NaN            -0.22  True  6904933 NaN  NaN   \n",
       "6685353   16474          1.12  NaN            -0.22  True  6904933 NaN  NaN   \n",
       "\n",
       "            FS  GQ_MEAN  GQ_STDDEV  HWP  HaplotypeScore  Hemi_AFR  Hemi_AMR  \\\n",
       "6685352  1.124   756.91     783.83  NaN             NaN       NaN       NaN   \n",
       "6685353  1.124   756.91     783.83  NaN             NaN       NaN       NaN   \n",
       "\n",
       "         Hemi_EAS  Hemi_FIN  Hemi_NFE  Hemi_OTH  Hemi_SAS Het_AFR Het_AMR  \\\n",
       "6685352       NaN       NaN       NaN       NaN       NaN    2342    1992   \n",
       "6685353       NaN       NaN       NaN       NaN       NaN    2342    1992   \n",
       "\n",
       "        Het_EAS Het_FIN Het_NFE Het_OTH Het_SAS  Hom_AFR  Hom_AMR  Hom_EAS  \\\n",
       "6685352    1024    1518   13848     209    3620     1310     3342     3152   \n",
       "6685353    1024    1518   13848     209    3620     1310     3342     3152   \n",
       "\n",
       "         Hom_FIN  Hom_NFE  Hom_OTH  Hom_SAS  InbreedingCoeff  MLEAC  MLEAF  \\\n",
       "6685352     1247    14944      174     3296           0.0986    NaN    NaN   \n",
       "6685353     1247    14944      174     3296           0.0986    NaN    NaN   \n",
       "\n",
       "            MQ  MQ0  MQRankSum  NCC     QD  ReadPosRankSum  VQSLOD culprit  \\\n",
       "6685352  57.33    0     -0.098  118  22.76             0.3   0.838      MQ   \n",
       "6685353  57.33    0     -0.098  118  22.76             0.3   0.838      MQ   \n",
       "\n",
       "        Allele             Gene          Feature Feature_type  \\\n",
       "6685352      G  ENSG00000100197  ENST00000360608   Transcript   \n",
       "6685353      G  ENSG00000237037  ENST00000416037   Transcript   \n",
       "\n",
       "                                          Consequence cDNA_position  \\\n",
       "6685352                              missense_variant          1001   \n",
       "6685353  intron_variant&non_coding_transcript_variant           NaN   \n",
       "\n",
       "        CDS_position Protein_position Amino_acids   Codons  \\\n",
       "6685352          886              296         C/R  Tgc/Cgc   \n",
       "6685353          NaN              NaN         NaN      NaN   \n",
       "\n",
       "                               Existing_variation  ALLELE_NUM  DISTANCE  \\\n",
       "6685352  rs16947&CM930187&COSM1130422&COSM1130423           1       NaN   \n",
       "6685353  rs16947&CM930187&COSM1130422&COSM1130423           1       NaN   \n",
       "\n",
       "         STRAND      SYMBOL SYMBOL_SOURCE  HGNC_ID         BIOTYPE CANONICAL  \\\n",
       "6685352      -1      CYP2D6          HGNC     2625  protein_coding       YES   \n",
       "6685353       1  NDUFA6-AS1          HGNC    45273       antisense       YES   \n",
       "\n",
       "                CCDS             ENSP SWISSPROT                     TREMBL  \\\n",
       "6685352  CCDS46721.1  ENSP00000353820       NaN  Q6NWU0_HUMAN&Q007T9_HUMAN   \n",
       "6685353          NaN              NaN       NaN                        NaN   \n",
       "\n",
       "               UNIPARC             SIFT   PolyPhen EXON INTRON  \\\n",
       "6685352  UPI0000157756  tolerated(0.35)  benign(0)  6/9    NaN   \n",
       "6685353            NaN              NaN        NaN  NaN    5/6   \n",
       "\n",
       "                                                                                                                    DOMAINS  \\\n",
       "6685352  Pfam_domain:PF00067&Prints_domain:PR00463&Prints_domain:PR01686&Prints_domain:PR00465&Superfamily_domains:SSF48264   \n",
       "6685353                                                                                                                 NaN   \n",
       "\n",
       "                                    HGVSc                          HGVSp  \\\n",
       "6685352        ENST00000360608.5:c.886T>C  ENSP00000353820.5:p.Cys296Arg   \n",
       "6685353  ENST00000416037.2:n.1718+2531A>G                            NaN   \n",
       "\n",
       "             GMAF AFR_MAF AMR_MAF ASN_MAF EUR_MAF      AA_MAF      EA_MAF  \\\n",
       "6685352  A:0.3425  G:0.41  G:0.69  G:0.85  G:0.66  G:0.486566  G:0.657282   \n",
       "6685353  A:0.3425  G:0.41  G:0.69  G:0.85  G:0.66  G:0.486566  G:0.657282   \n",
       "\n",
       "        CLIN_SIG  SOMATIC  \\\n",
       "6685352      NaN  0&0&1&1   \n",
       "6685353      NaN  0&0&1&1   \n",
       "\n",
       "                                                                                                              PUBMED  \\\n",
       "6685352  18547414&18698231&23133420&21071160&21840870&22688145&23130019&18632250&20601196&20889555&20847277&22688139   \n",
       "6685353  18547414&18698231&23133420&21071160&21840870&22688145&23130019&18632250&20601196&20889555&20847277&22688139   \n",
       "\n",
       "         MOTIF_NAME  MOTIF_POS  HIGH_INF_POS  MOTIF_SCORE_CHANGE LoF_info  \\\n",
       "6685352         NaN        NaN           NaN                 NaN      NaN   \n",
       "6685353         NaN        NaN           NaN                 NaN      NaN   \n",
       "\n",
       "        LoF_flags LoF_filter  LoF  COMP.AF_AFR  COMP.AF_AMR  COMP.AF_EAS  \\\n",
       "6685352       NaN        NaN  NaN     0.480163     0.751429     0.851499   \n",
       "6685353       NaN        NaN  NaN     0.480163     0.751429     0.851499   \n",
       "\n",
       "         COMP.AF_FIN  COMP.AF_NFE  COMP.AF_OTH  COMP.AF_SAS  COMP.AF_Adj  \\\n",
       "6685352     0.606959     0.657052     0.613436     0.619886     0.656656   \n",
       "6685353     0.606959     0.657052     0.613436     0.619886     0.656656   \n",
       "\n",
       "                            var_uid  \n",
       "6685352      22-CYP2D6-42523943-A-G  \n",
       "6685353  22-NDUFA6-AS1-42523943-A-G  "
      ]
     },
     "execution_count": 419,
     "metadata": {},
     "output_type": "execute_result"
    }
   ],
   "source": [
    "variants.loc[variants.ID == \"rs16947\"]"
   ]
  },
  {
   "cell_type": "code",
   "execution_count": 420,
   "metadata": {
    "collapsed": false,
    "deletable": true,
    "editable": true,
    "run_control": {
     "frozen": false,
     "read_only": false
    }
   },
   "outputs": [
    {
     "data": {
      "text/html": [
       "<div>\n",
       "<table border=\"1\" class=\"dataframe\">\n",
       "  <thead>\n",
       "    <tr style=\"text-align: right;\">\n",
       "      <th></th>\n",
       "      <th>Transcript</th>\n",
       "      <th>CHROM</th>\n",
       "      <th>POS</th>\n",
       "      <th>REF</th>\n",
       "      <th>ALT</th>\n",
       "      <th>ID</th>\n",
       "      <th>QUAL</th>\n",
       "      <th>FILTER</th>\n",
       "      <th>var_type</th>\n",
       "      <th>var_subtype</th>\n",
       "      <th>AC</th>\n",
       "      <th>AC_AFR</th>\n",
       "      <th>AC_AMR</th>\n",
       "      <th>AC_Adj</th>\n",
       "      <th>AC_EAS</th>\n",
       "      <th>AC_FIN</th>\n",
       "      <th>AC_Hemi</th>\n",
       "      <th>AC_Het</th>\n",
       "      <th>AC_Hom</th>\n",
       "      <th>AC_NFE</th>\n",
       "      <th>AC_OTH</th>\n",
       "      <th>AC_SAS</th>\n",
       "      <th>AF</th>\n",
       "      <th>AN</th>\n",
       "      <th>AN_AFR</th>\n",
       "      <th>AN_AMR</th>\n",
       "      <th>AN_Adj</th>\n",
       "      <th>AN_EAS</th>\n",
       "      <th>AN_FIN</th>\n",
       "      <th>AN_NFE</th>\n",
       "      <th>AN_OTH</th>\n",
       "      <th>AN_SAS</th>\n",
       "      <th>BaseQRankSum</th>\n",
       "      <th>CCC</th>\n",
       "      <th>ClippingRankSum</th>\n",
       "      <th>DB</th>\n",
       "      <th>DP</th>\n",
       "      <th>DS</th>\n",
       "      <th>END</th>\n",
       "      <th>FS</th>\n",
       "      <th>GQ_MEAN</th>\n",
       "      <th>GQ_STDDEV</th>\n",
       "      <th>HWP</th>\n",
       "      <th>HaplotypeScore</th>\n",
       "      <th>Hemi_AFR</th>\n",
       "      <th>Hemi_AMR</th>\n",
       "      <th>Hemi_EAS</th>\n",
       "      <th>Hemi_FIN</th>\n",
       "      <th>Hemi_NFE</th>\n",
       "      <th>Hemi_OTH</th>\n",
       "      <th>Hemi_SAS</th>\n",
       "      <th>Het_AFR</th>\n",
       "      <th>Het_AMR</th>\n",
       "      <th>Het_EAS</th>\n",
       "      <th>Het_FIN</th>\n",
       "      <th>Het_NFE</th>\n",
       "      <th>Het_OTH</th>\n",
       "      <th>Het_SAS</th>\n",
       "      <th>Hom_AFR</th>\n",
       "      <th>Hom_AMR</th>\n",
       "      <th>Hom_EAS</th>\n",
       "      <th>Hom_FIN</th>\n",
       "      <th>Hom_NFE</th>\n",
       "      <th>Hom_OTH</th>\n",
       "      <th>Hom_SAS</th>\n",
       "      <th>InbreedingCoeff</th>\n",
       "      <th>MLEAC</th>\n",
       "      <th>MLEAF</th>\n",
       "      <th>MQ</th>\n",
       "      <th>MQ0</th>\n",
       "      <th>MQRankSum</th>\n",
       "      <th>NCC</th>\n",
       "      <th>QD</th>\n",
       "      <th>ReadPosRankSum</th>\n",
       "      <th>VQSLOD</th>\n",
       "      <th>culprit</th>\n",
       "      <th>Allele</th>\n",
       "      <th>Gene</th>\n",
       "      <th>Feature</th>\n",
       "      <th>Feature_type</th>\n",
       "      <th>Consequence</th>\n",
       "      <th>cDNA_position</th>\n",
       "      <th>CDS_position</th>\n",
       "      <th>Protein_position</th>\n",
       "      <th>Amino_acids</th>\n",
       "      <th>Codons</th>\n",
       "      <th>Existing_variation</th>\n",
       "      <th>ALLELE_NUM</th>\n",
       "      <th>DISTANCE</th>\n",
       "      <th>STRAND</th>\n",
       "      <th>SYMBOL</th>\n",
       "      <th>SYMBOL_SOURCE</th>\n",
       "      <th>HGNC_ID</th>\n",
       "      <th>BIOTYPE</th>\n",
       "      <th>CANONICAL</th>\n",
       "      <th>CCDS</th>\n",
       "      <th>ENSP</th>\n",
       "      <th>SWISSPROT</th>\n",
       "      <th>TREMBL</th>\n",
       "      <th>UNIPARC</th>\n",
       "      <th>SIFT</th>\n",
       "      <th>PolyPhen</th>\n",
       "      <th>EXON</th>\n",
       "      <th>INTRON</th>\n",
       "      <th>DOMAINS</th>\n",
       "      <th>HGVSc</th>\n",
       "      <th>HGVSp</th>\n",
       "      <th>GMAF</th>\n",
       "      <th>AFR_MAF</th>\n",
       "      <th>AMR_MAF</th>\n",
       "      <th>ASN_MAF</th>\n",
       "      <th>EUR_MAF</th>\n",
       "      <th>AA_MAF</th>\n",
       "      <th>EA_MAF</th>\n",
       "      <th>CLIN_SIG</th>\n",
       "      <th>SOMATIC</th>\n",
       "      <th>PUBMED</th>\n",
       "      <th>MOTIF_NAME</th>\n",
       "      <th>MOTIF_POS</th>\n",
       "      <th>HIGH_INF_POS</th>\n",
       "      <th>MOTIF_SCORE_CHANGE</th>\n",
       "      <th>LoF_info</th>\n",
       "      <th>LoF_flags</th>\n",
       "      <th>LoF_filter</th>\n",
       "      <th>LoF</th>\n",
       "      <th>COMP.AF_AFR</th>\n",
       "      <th>COMP.AF_AMR</th>\n",
       "      <th>COMP.AF_EAS</th>\n",
       "      <th>COMP.AF_FIN</th>\n",
       "      <th>COMP.AF_NFE</th>\n",
       "      <th>COMP.AF_OTH</th>\n",
       "      <th>COMP.AF_SAS</th>\n",
       "      <th>COMP.AF_Adj</th>\n",
       "      <th>var_uid</th>\n",
       "    </tr>\n",
       "  </thead>\n",
       "  <tbody>\n",
       "    <tr>\n",
       "      <th>6685022</th>\n",
       "      <td>transcript_00001</td>\n",
       "      <td>22</td>\n",
       "      <td>42522613</td>\n",
       "      <td>G</td>\n",
       "      <td>C</td>\n",
       "      <td>rs1135840</td>\n",
       "      <td>46232111.07</td>\n",
       "      <td>PASS</td>\n",
       "      <td>snp</td>\n",
       "      <td>tv</td>\n",
       "      <td>54198</td>\n",
       "      <td>3522</td>\n",
       "      <td>7133</td>\n",
       "      <td>52967</td>\n",
       "      <td>2483</td>\n",
       "      <td>3106</td>\n",
       "      <td>NaN</td>\n",
       "      <td>26993</td>\n",
       "      <td>12987</td>\n",
       "      <td>28902</td>\n",
       "      <td>388</td>\n",
       "      <td>7433</td>\n",
       "      <td>0.447</td>\n",
       "      <td>121208</td>\n",
       "      <td>9736</td>\n",
       "      <td>11202</td>\n",
       "      <td>116268</td>\n",
       "      <td>8314</td>\n",
       "      <td>6202</td>\n",
       "      <td>64490</td>\n",
       "      <td>864</td>\n",
       "      <td>15460</td>\n",
       "      <td>0.862</td>\n",
       "      <td>NaN</td>\n",
       "      <td>-0.265</td>\n",
       "      <td>True</td>\n",
       "      <td>2083736</td>\n",
       "      <td>NaN</td>\n",
       "      <td>NaN</td>\n",
       "      <td>0.0</td>\n",
       "      <td>253.2</td>\n",
       "      <td>291.02</td>\n",
       "      <td>NaN</td>\n",
       "      <td>NaN</td>\n",
       "      <td>NaN</td>\n",
       "      <td>NaN</td>\n",
       "      <td>NaN</td>\n",
       "      <td>NaN</td>\n",
       "      <td>NaN</td>\n",
       "      <td>NaN</td>\n",
       "      <td>NaN</td>\n",
       "      <td>2042</td>\n",
       "      <td>2491</td>\n",
       "      <td>1593</td>\n",
       "      <td>1608</td>\n",
       "      <td>15330</td>\n",
       "      <td>208</td>\n",
       "      <td>3721</td>\n",
       "      <td>740</td>\n",
       "      <td>2321</td>\n",
       "      <td>445</td>\n",
       "      <td>749</td>\n",
       "      <td>6786</td>\n",
       "      <td>90</td>\n",
       "      <td>1856</td>\n",
       "      <td>0.0882</td>\n",
       "      <td>NaN</td>\n",
       "      <td>NaN</td>\n",
       "      <td>49.62</td>\n",
       "      <td>0</td>\n",
       "      <td>0.133</td>\n",
       "      <td>214</td>\n",
       "      <td>18.75</td>\n",
       "      <td>0.303</td>\n",
       "      <td>3.48</td>\n",
       "      <td>FS</td>\n",
       "      <td>C</td>\n",
       "      <td>ENSG00000100197</td>\n",
       "      <td>ENST00000360608</td>\n",
       "      <td>Transcript</td>\n",
       "      <td>missense_variant</td>\n",
       "      <td>1572</td>\n",
       "      <td>1457</td>\n",
       "      <td>486</td>\n",
       "      <td>T/S</td>\n",
       "      <td>aCc/aGc</td>\n",
       "      <td>rs1135840&amp;CM931123&amp;COSM1599976&amp;COSM1599977</td>\n",
       "      <td>1</td>\n",
       "      <td>NaN</td>\n",
       "      <td>-1</td>\n",
       "      <td>CYP2D6</td>\n",
       "      <td>HGNC</td>\n",
       "      <td>2625</td>\n",
       "      <td>protein_coding</td>\n",
       "      <td>YES</td>\n",
       "      <td>CCDS46721.1</td>\n",
       "      <td>ENSP00000353820</td>\n",
       "      <td>NaN</td>\n",
       "      <td>Q6NWU0_HUMAN&amp;Q007T9_HUMAN</td>\n",
       "      <td>UPI0000157756</td>\n",
       "      <td>tolerated(0.99)</td>\n",
       "      <td>benign(0.034)</td>\n",
       "      <td>9/9</td>\n",
       "      <td>NaN</td>\n",
       "      <td>Pfam_domain:PF00067&amp;Superfamily_domains:SSF48264</td>\n",
       "      <td>ENST00000360608.5:c.1457C&gt;G</td>\n",
       "      <td>ENSP00000353820.5:p.Thr486Ser</td>\n",
       "      <td>C:0.4008</td>\n",
       "      <td>C:0.32</td>\n",
       "      <td>C:0.52</td>\n",
       "      <td>C:0.33</td>\n",
       "      <td>C:0.45</td>\n",
       "      <td>C:0.363595</td>\n",
       "      <td>C:0.431131</td>\n",
       "      <td>NaN</td>\n",
       "      <td>0&amp;0&amp;1&amp;1</td>\n",
       "      <td>18698231&amp;23133420&amp;22722500&amp;18632250&amp;20548328</td>\n",
       "      <td>NaN</td>\n",
       "      <td>NaN</td>\n",
       "      <td>NaN</td>\n",
       "      <td>NaN</td>\n",
       "      <td>NaN</td>\n",
       "      <td>NaN</td>\n",
       "      <td>NaN</td>\n",
       "      <td>NaN</td>\n",
       "      <td>0.36175</td>\n",
       "      <td>0.636761</td>\n",
       "      <td>0.298653</td>\n",
       "      <td>0.500806</td>\n",
       "      <td>0.448163</td>\n",
       "      <td>0.449074</td>\n",
       "      <td>0.480789</td>\n",
       "      <td>0.45556</td>\n",
       "      <td>22-CYP2D6-42522613-G-C</td>\n",
       "    </tr>\n",
       "    <tr>\n",
       "      <th>6685023</th>\n",
       "      <td>transcript_00003</td>\n",
       "      <td>22</td>\n",
       "      <td>42522613</td>\n",
       "      <td>G</td>\n",
       "      <td>C</td>\n",
       "      <td>rs1135840</td>\n",
       "      <td>46232111.07</td>\n",
       "      <td>PASS</td>\n",
       "      <td>snp</td>\n",
       "      <td>tv</td>\n",
       "      <td>54198</td>\n",
       "      <td>3522</td>\n",
       "      <td>7133</td>\n",
       "      <td>52967</td>\n",
       "      <td>2483</td>\n",
       "      <td>3106</td>\n",
       "      <td>NaN</td>\n",
       "      <td>26993</td>\n",
       "      <td>12987</td>\n",
       "      <td>28902</td>\n",
       "      <td>388</td>\n",
       "      <td>7433</td>\n",
       "      <td>0.447</td>\n",
       "      <td>121208</td>\n",
       "      <td>9736</td>\n",
       "      <td>11202</td>\n",
       "      <td>116268</td>\n",
       "      <td>8314</td>\n",
       "      <td>6202</td>\n",
       "      <td>64490</td>\n",
       "      <td>864</td>\n",
       "      <td>15460</td>\n",
       "      <td>0.862</td>\n",
       "      <td>NaN</td>\n",
       "      <td>-0.265</td>\n",
       "      <td>True</td>\n",
       "      <td>2083736</td>\n",
       "      <td>NaN</td>\n",
       "      <td>NaN</td>\n",
       "      <td>0.0</td>\n",
       "      <td>253.2</td>\n",
       "      <td>291.02</td>\n",
       "      <td>NaN</td>\n",
       "      <td>NaN</td>\n",
       "      <td>NaN</td>\n",
       "      <td>NaN</td>\n",
       "      <td>NaN</td>\n",
       "      <td>NaN</td>\n",
       "      <td>NaN</td>\n",
       "      <td>NaN</td>\n",
       "      <td>NaN</td>\n",
       "      <td>2042</td>\n",
       "      <td>2491</td>\n",
       "      <td>1593</td>\n",
       "      <td>1608</td>\n",
       "      <td>15330</td>\n",
       "      <td>208</td>\n",
       "      <td>3721</td>\n",
       "      <td>740</td>\n",
       "      <td>2321</td>\n",
       "      <td>445</td>\n",
       "      <td>749</td>\n",
       "      <td>6786</td>\n",
       "      <td>90</td>\n",
       "      <td>1856</td>\n",
       "      <td>0.0882</td>\n",
       "      <td>NaN</td>\n",
       "      <td>NaN</td>\n",
       "      <td>49.62</td>\n",
       "      <td>0</td>\n",
       "      <td>0.133</td>\n",
       "      <td>214</td>\n",
       "      <td>18.75</td>\n",
       "      <td>0.303</td>\n",
       "      <td>3.48</td>\n",
       "      <td>FS</td>\n",
       "      <td>C</td>\n",
       "      <td>ENSG00000237037</td>\n",
       "      <td>ENST00000416037</td>\n",
       "      <td>Transcript</td>\n",
       "      <td>intron_variant&amp;non_coding_transcript_variant</td>\n",
       "      <td>NaN</td>\n",
       "      <td>NaN</td>\n",
       "      <td>NaN</td>\n",
       "      <td>NaN</td>\n",
       "      <td>NaN</td>\n",
       "      <td>rs1135840&amp;CM931123&amp;COSM1599976&amp;COSM1599977</td>\n",
       "      <td>1</td>\n",
       "      <td>NaN</td>\n",
       "      <td>1</td>\n",
       "      <td>NDUFA6-AS1</td>\n",
       "      <td>HGNC</td>\n",
       "      <td>45273</td>\n",
       "      <td>antisense</td>\n",
       "      <td>YES</td>\n",
       "      <td>NaN</td>\n",
       "      <td>NaN</td>\n",
       "      <td>NaN</td>\n",
       "      <td>NaN</td>\n",
       "      <td>NaN</td>\n",
       "      <td>NaN</td>\n",
       "      <td>NaN</td>\n",
       "      <td>NaN</td>\n",
       "      <td>5/6</td>\n",
       "      <td>NaN</td>\n",
       "      <td>ENST00000416037.2:n.1718+1201G&gt;C</td>\n",
       "      <td>NaN</td>\n",
       "      <td>C:0.4008</td>\n",
       "      <td>C:0.32</td>\n",
       "      <td>C:0.52</td>\n",
       "      <td>C:0.33</td>\n",
       "      <td>C:0.45</td>\n",
       "      <td>C:0.363595</td>\n",
       "      <td>C:0.431131</td>\n",
       "      <td>NaN</td>\n",
       "      <td>0&amp;0&amp;1&amp;1</td>\n",
       "      <td>18698231&amp;23133420&amp;22722500&amp;18632250&amp;20548328</td>\n",
       "      <td>NaN</td>\n",
       "      <td>NaN</td>\n",
       "      <td>NaN</td>\n",
       "      <td>NaN</td>\n",
       "      <td>NaN</td>\n",
       "      <td>NaN</td>\n",
       "      <td>NaN</td>\n",
       "      <td>NaN</td>\n",
       "      <td>0.36175</td>\n",
       "      <td>0.636761</td>\n",
       "      <td>0.298653</td>\n",
       "      <td>0.500806</td>\n",
       "      <td>0.448163</td>\n",
       "      <td>0.449074</td>\n",
       "      <td>0.480789</td>\n",
       "      <td>0.45556</td>\n",
       "      <td>22-NDUFA6-AS1-42522613-G-C</td>\n",
       "    </tr>\n",
       "  </tbody>\n",
       "</table>\n",
       "</div>"
      ],
      "text/plain": [
       "               Transcript CHROM       POS REF ALT         ID         QUAL  \\\n",
       "6685022  transcript_00001    22  42522613   G   C  rs1135840  46232111.07   \n",
       "6685023  transcript_00003    22  42522613   G   C  rs1135840  46232111.07   \n",
       "\n",
       "        FILTER var_type var_subtype     AC  AC_AFR  AC_AMR  AC_Adj  AC_EAS  \\\n",
       "6685022   PASS      snp          tv  54198    3522    7133   52967    2483   \n",
       "6685023   PASS      snp          tv  54198    3522    7133   52967    2483   \n",
       "\n",
       "         AC_FIN  AC_Hemi AC_Het  AC_Hom  AC_NFE  AC_OTH  AC_SAS     AF  \\\n",
       "6685022    3106      NaN  26993   12987   28902     388    7433  0.447   \n",
       "6685023    3106      NaN  26993   12987   28902     388    7433  0.447   \n",
       "\n",
       "             AN  AN_AFR  AN_AMR  AN_Adj  AN_EAS  AN_FIN  AN_NFE  AN_OTH  \\\n",
       "6685022  121208    9736   11202  116268    8314    6202   64490     864   \n",
       "6685023  121208    9736   11202  116268    8314    6202   64490     864   \n",
       "\n",
       "         AN_SAS  BaseQRankSum  CCC  ClippingRankSum    DB       DP  DS  END  \\\n",
       "6685022   15460         0.862  NaN           -0.265  True  2083736 NaN  NaN   \n",
       "6685023   15460         0.862  NaN           -0.265  True  2083736 NaN  NaN   \n",
       "\n",
       "          FS  GQ_MEAN  GQ_STDDEV  HWP  HaplotypeScore  Hemi_AFR  Hemi_AMR  \\\n",
       "6685022  0.0    253.2     291.02  NaN             NaN       NaN       NaN   \n",
       "6685023  0.0    253.2     291.02  NaN             NaN       NaN       NaN   \n",
       "\n",
       "         Hemi_EAS  Hemi_FIN  Hemi_NFE  Hemi_OTH  Hemi_SAS Het_AFR Het_AMR  \\\n",
       "6685022       NaN       NaN       NaN       NaN       NaN    2042    2491   \n",
       "6685023       NaN       NaN       NaN       NaN       NaN    2042    2491   \n",
       "\n",
       "        Het_EAS Het_FIN Het_NFE Het_OTH Het_SAS  Hom_AFR  Hom_AMR  Hom_EAS  \\\n",
       "6685022    1593    1608   15330     208    3721      740     2321      445   \n",
       "6685023    1593    1608   15330     208    3721      740     2321      445   \n",
       "\n",
       "         Hom_FIN  Hom_NFE  Hom_OTH  Hom_SAS  InbreedingCoeff  MLEAC  MLEAF  \\\n",
       "6685022      749     6786       90     1856           0.0882    NaN    NaN   \n",
       "6685023      749     6786       90     1856           0.0882    NaN    NaN   \n",
       "\n",
       "            MQ  MQ0  MQRankSum  NCC     QD  ReadPosRankSum  VQSLOD culprit  \\\n",
       "6685022  49.62    0      0.133  214  18.75           0.303    3.48      FS   \n",
       "6685023  49.62    0      0.133  214  18.75           0.303    3.48      FS   \n",
       "\n",
       "        Allele             Gene          Feature Feature_type  \\\n",
       "6685022      C  ENSG00000100197  ENST00000360608   Transcript   \n",
       "6685023      C  ENSG00000237037  ENST00000416037   Transcript   \n",
       "\n",
       "                                          Consequence cDNA_position  \\\n",
       "6685022                              missense_variant          1572   \n",
       "6685023  intron_variant&non_coding_transcript_variant           NaN   \n",
       "\n",
       "        CDS_position Protein_position Amino_acids   Codons  \\\n",
       "6685022         1457              486         T/S  aCc/aGc   \n",
       "6685023          NaN              NaN         NaN      NaN   \n",
       "\n",
       "                                 Existing_variation  ALLELE_NUM  DISTANCE  \\\n",
       "6685022  rs1135840&CM931123&COSM1599976&COSM1599977           1       NaN   \n",
       "6685023  rs1135840&CM931123&COSM1599976&COSM1599977           1       NaN   \n",
       "\n",
       "         STRAND      SYMBOL SYMBOL_SOURCE  HGNC_ID         BIOTYPE CANONICAL  \\\n",
       "6685022      -1      CYP2D6          HGNC     2625  protein_coding       YES   \n",
       "6685023       1  NDUFA6-AS1          HGNC    45273       antisense       YES   \n",
       "\n",
       "                CCDS             ENSP SWISSPROT                     TREMBL  \\\n",
       "6685022  CCDS46721.1  ENSP00000353820       NaN  Q6NWU0_HUMAN&Q007T9_HUMAN   \n",
       "6685023          NaN              NaN       NaN                        NaN   \n",
       "\n",
       "               UNIPARC             SIFT       PolyPhen EXON INTRON  \\\n",
       "6685022  UPI0000157756  tolerated(0.99)  benign(0.034)  9/9    NaN   \n",
       "6685023            NaN              NaN            NaN  NaN    5/6   \n",
       "\n",
       "                                                  DOMAINS  \\\n",
       "6685022  Pfam_domain:PF00067&Superfamily_domains:SSF48264   \n",
       "6685023                                               NaN   \n",
       "\n",
       "                                    HGVSc                          HGVSp  \\\n",
       "6685022       ENST00000360608.5:c.1457C>G  ENSP00000353820.5:p.Thr486Ser   \n",
       "6685023  ENST00000416037.2:n.1718+1201G>C                            NaN   \n",
       "\n",
       "             GMAF AFR_MAF AMR_MAF ASN_MAF EUR_MAF      AA_MAF      EA_MAF  \\\n",
       "6685022  C:0.4008  C:0.32  C:0.52  C:0.33  C:0.45  C:0.363595  C:0.431131   \n",
       "6685023  C:0.4008  C:0.32  C:0.52  C:0.33  C:0.45  C:0.363595  C:0.431131   \n",
       "\n",
       "        CLIN_SIG  SOMATIC                                        PUBMED  \\\n",
       "6685022      NaN  0&0&1&1  18698231&23133420&22722500&18632250&20548328   \n",
       "6685023      NaN  0&0&1&1  18698231&23133420&22722500&18632250&20548328   \n",
       "\n",
       "         MOTIF_NAME  MOTIF_POS  HIGH_INF_POS  MOTIF_SCORE_CHANGE LoF_info  \\\n",
       "6685022         NaN        NaN           NaN                 NaN      NaN   \n",
       "6685023         NaN        NaN           NaN                 NaN      NaN   \n",
       "\n",
       "        LoF_flags LoF_filter  LoF  COMP.AF_AFR  COMP.AF_AMR  COMP.AF_EAS  \\\n",
       "6685022       NaN        NaN  NaN      0.36175     0.636761     0.298653   \n",
       "6685023       NaN        NaN  NaN      0.36175     0.636761     0.298653   \n",
       "\n",
       "         COMP.AF_FIN  COMP.AF_NFE  COMP.AF_OTH  COMP.AF_SAS  COMP.AF_Adj  \\\n",
       "6685022     0.500806     0.448163     0.449074     0.480789      0.45556   \n",
       "6685023     0.500806     0.448163     0.449074     0.480789      0.45556   \n",
       "\n",
       "                            var_uid  \n",
       "6685022      22-CYP2D6-42522613-G-C  \n",
       "6685023  22-NDUFA6-AS1-42522613-G-C  "
      ]
     },
     "execution_count": 420,
     "metadata": {},
     "output_type": "execute_result"
    }
   ],
   "source": [
    "variants.loc[variants.ID == \"rs1135840\"]"
   ]
  },
  {
   "cell_type": "code",
   "execution_count": 422,
   "metadata": {
    "collapsed": false,
    "deletable": true,
    "editable": true,
    "run_control": {
     "frozen": false,
     "read_only": false
    }
   },
   "outputs": [
    {
     "data": {
      "text/html": [
       "<div>\n",
       "<table border=\"1\" class=\"dataframe\">\n",
       "  <thead>\n",
       "    <tr style=\"text-align: right;\">\n",
       "      <th></th>\n",
       "      <th>Transcript</th>\n",
       "      <th>CHROM</th>\n",
       "      <th>POS</th>\n",
       "      <th>REF</th>\n",
       "      <th>ALT</th>\n",
       "      <th>ID</th>\n",
       "      <th>QUAL</th>\n",
       "      <th>FILTER</th>\n",
       "      <th>var_type</th>\n",
       "      <th>var_subtype</th>\n",
       "      <th>AC</th>\n",
       "      <th>AC_AFR</th>\n",
       "      <th>AC_AMR</th>\n",
       "      <th>AC_Adj</th>\n",
       "      <th>AC_EAS</th>\n",
       "      <th>AC_FIN</th>\n",
       "      <th>AC_Hemi</th>\n",
       "      <th>AC_Het</th>\n",
       "      <th>AC_Hom</th>\n",
       "      <th>AC_NFE</th>\n",
       "      <th>AC_OTH</th>\n",
       "      <th>AC_SAS</th>\n",
       "      <th>AF</th>\n",
       "      <th>AN</th>\n",
       "      <th>AN_AFR</th>\n",
       "      <th>AN_AMR</th>\n",
       "      <th>AN_Adj</th>\n",
       "      <th>AN_EAS</th>\n",
       "      <th>AN_FIN</th>\n",
       "      <th>AN_NFE</th>\n",
       "      <th>AN_OTH</th>\n",
       "      <th>AN_SAS</th>\n",
       "      <th>BaseQRankSum</th>\n",
       "      <th>CCC</th>\n",
       "      <th>ClippingRankSum</th>\n",
       "      <th>DB</th>\n",
       "      <th>DP</th>\n",
       "      <th>DS</th>\n",
       "      <th>END</th>\n",
       "      <th>FS</th>\n",
       "      <th>GQ_MEAN</th>\n",
       "      <th>GQ_STDDEV</th>\n",
       "      <th>HWP</th>\n",
       "      <th>HaplotypeScore</th>\n",
       "      <th>Hemi_AFR</th>\n",
       "      <th>Hemi_AMR</th>\n",
       "      <th>Hemi_EAS</th>\n",
       "      <th>Hemi_FIN</th>\n",
       "      <th>Hemi_NFE</th>\n",
       "      <th>Hemi_OTH</th>\n",
       "      <th>Hemi_SAS</th>\n",
       "      <th>Het_AFR</th>\n",
       "      <th>Het_AMR</th>\n",
       "      <th>Het_EAS</th>\n",
       "      <th>Het_FIN</th>\n",
       "      <th>Het_NFE</th>\n",
       "      <th>Het_OTH</th>\n",
       "      <th>Het_SAS</th>\n",
       "      <th>Hom_AFR</th>\n",
       "      <th>Hom_AMR</th>\n",
       "      <th>Hom_EAS</th>\n",
       "      <th>Hom_FIN</th>\n",
       "      <th>Hom_NFE</th>\n",
       "      <th>Hom_OTH</th>\n",
       "      <th>Hom_SAS</th>\n",
       "      <th>InbreedingCoeff</th>\n",
       "      <th>MLEAC</th>\n",
       "      <th>MLEAF</th>\n",
       "      <th>MQ</th>\n",
       "      <th>MQ0</th>\n",
       "      <th>MQRankSum</th>\n",
       "      <th>NCC</th>\n",
       "      <th>QD</th>\n",
       "      <th>ReadPosRankSum</th>\n",
       "      <th>VQSLOD</th>\n",
       "      <th>culprit</th>\n",
       "      <th>Allele</th>\n",
       "      <th>Gene</th>\n",
       "      <th>Feature</th>\n",
       "      <th>Feature_type</th>\n",
       "      <th>Consequence</th>\n",
       "      <th>cDNA_position</th>\n",
       "      <th>CDS_position</th>\n",
       "      <th>Protein_position</th>\n",
       "      <th>Amino_acids</th>\n",
       "      <th>Codons</th>\n",
       "      <th>Existing_variation</th>\n",
       "      <th>ALLELE_NUM</th>\n",
       "      <th>DISTANCE</th>\n",
       "      <th>STRAND</th>\n",
       "      <th>SYMBOL</th>\n",
       "      <th>SYMBOL_SOURCE</th>\n",
       "      <th>HGNC_ID</th>\n",
       "      <th>BIOTYPE</th>\n",
       "      <th>CANONICAL</th>\n",
       "      <th>CCDS</th>\n",
       "      <th>ENSP</th>\n",
       "      <th>SWISSPROT</th>\n",
       "      <th>TREMBL</th>\n",
       "      <th>UNIPARC</th>\n",
       "      <th>SIFT</th>\n",
       "      <th>PolyPhen</th>\n",
       "      <th>EXON</th>\n",
       "      <th>INTRON</th>\n",
       "      <th>DOMAINS</th>\n",
       "      <th>HGVSc</th>\n",
       "      <th>HGVSp</th>\n",
       "      <th>GMAF</th>\n",
       "      <th>AFR_MAF</th>\n",
       "      <th>AMR_MAF</th>\n",
       "      <th>ASN_MAF</th>\n",
       "      <th>EUR_MAF</th>\n",
       "      <th>AA_MAF</th>\n",
       "      <th>EA_MAF</th>\n",
       "      <th>CLIN_SIG</th>\n",
       "      <th>SOMATIC</th>\n",
       "      <th>PUBMED</th>\n",
       "      <th>MOTIF_NAME</th>\n",
       "      <th>MOTIF_POS</th>\n",
       "      <th>HIGH_INF_POS</th>\n",
       "      <th>MOTIF_SCORE_CHANGE</th>\n",
       "      <th>LoF_info</th>\n",
       "      <th>LoF_flags</th>\n",
       "      <th>LoF_filter</th>\n",
       "      <th>LoF</th>\n",
       "      <th>COMP.AF_AFR</th>\n",
       "      <th>COMP.AF_AMR</th>\n",
       "      <th>COMP.AF_EAS</th>\n",
       "      <th>COMP.AF_FIN</th>\n",
       "      <th>COMP.AF_NFE</th>\n",
       "      <th>COMP.AF_OTH</th>\n",
       "      <th>COMP.AF_SAS</th>\n",
       "      <th>COMP.AF_Adj</th>\n",
       "      <th>var_uid</th>\n",
       "    </tr>\n",
       "  </thead>\n",
       "  <tbody>\n",
       "    <tr>\n",
       "      <th>6686061</th>\n",
       "      <td>transcript_00001</td>\n",
       "      <td>22</td>\n",
       "      <td>42526694</td>\n",
       "      <td>G</td>\n",
       "      <td>A</td>\n",
       "      <td>rs1065852</td>\n",
       "      <td>26579229.53</td>\n",
       "      <td>PASS</td>\n",
       "      <td>snp</td>\n",
       "      <td>ts</td>\n",
       "      <td>24731</td>\n",
       "      <td>1180</td>\n",
       "      <td>1243</td>\n",
       "      <td>23642</td>\n",
       "      <td>4651</td>\n",
       "      <td>687</td>\n",
       "      <td>NaN</td>\n",
       "      <td>16502</td>\n",
       "      <td>3570</td>\n",
       "      <td>13286</td>\n",
       "      <td>151</td>\n",
       "      <td>2444</td>\n",
       "      <td>0.204</td>\n",
       "      <td>121076</td>\n",
       "      <td>7800</td>\n",
       "      <td>8216</td>\n",
       "      <td>95838</td>\n",
       "      <td>7870</td>\n",
       "      <td>4394</td>\n",
       "      <td>53286</td>\n",
       "      <td>730</td>\n",
       "      <td>13542</td>\n",
       "      <td>-0.532</td>\n",
       "      <td>NaN</td>\n",
       "      <td>-0.29</td>\n",
       "      <td>True</td>\n",
       "      <td>1848016</td>\n",
       "      <td>NaN</td>\n",
       "      <td>NaN</td>\n",
       "      <td>0.581</td>\n",
       "      <td>163.86</td>\n",
       "      <td>356.83</td>\n",
       "      <td>NaN</td>\n",
       "      <td>NaN</td>\n",
       "      <td>NaN</td>\n",
       "      <td>NaN</td>\n",
       "      <td>NaN</td>\n",
       "      <td>NaN</td>\n",
       "      <td>NaN</td>\n",
       "      <td>NaN</td>\n",
       "      <td>NaN</td>\n",
       "      <td>938</td>\n",
       "      <td>1045</td>\n",
       "      <td>1899</td>\n",
       "      <td>607</td>\n",
       "      <td>9990</td>\n",
       "      <td>107</td>\n",
       "      <td>1916</td>\n",
       "      <td>121</td>\n",
       "      <td>99</td>\n",
       "      <td>1376</td>\n",
       "      <td>40</td>\n",
       "      <td>1648</td>\n",
       "      <td>22</td>\n",
       "      <td>264</td>\n",
       "      <td>0.1207</td>\n",
       "      <td>NaN</td>\n",
       "      <td>NaN</td>\n",
       "      <td>52.64</td>\n",
       "      <td>0</td>\n",
       "      <td>0.102</td>\n",
       "      <td>1092</td>\n",
       "      <td>18.85</td>\n",
       "      <td>0.274</td>\n",
       "      <td>5.46</td>\n",
       "      <td>MQ</td>\n",
       "      <td>A</td>\n",
       "      <td>ENSG00000100197</td>\n",
       "      <td>ENST00000360608</td>\n",
       "      <td>Transcript</td>\n",
       "      <td>missense_variant</td>\n",
       "      <td>215</td>\n",
       "      <td>100</td>\n",
       "      <td>34</td>\n",
       "      <td>P/S</td>\n",
       "      <td>Cca/Tca</td>\n",
       "      <td>rs1065852&amp;CM900081</td>\n",
       "      <td>1</td>\n",
       "      <td>NaN</td>\n",
       "      <td>-1</td>\n",
       "      <td>CYP2D6</td>\n",
       "      <td>HGNC</td>\n",
       "      <td>2625</td>\n",
       "      <td>protein_coding</td>\n",
       "      <td>YES</td>\n",
       "      <td>CCDS46721.1</td>\n",
       "      <td>ENSP00000353820</td>\n",
       "      <td>NaN</td>\n",
       "      <td>Q6NWU0_HUMAN&amp;Q007T9_HUMAN</td>\n",
       "      <td>UPI0000157756</td>\n",
       "      <td>deleterious(0.03)</td>\n",
       "      <td>possibly_damaging(0.89)</td>\n",
       "      <td>1/9</td>\n",
       "      <td>NaN</td>\n",
       "      <td>Low_complexity_(Seg):Seg&amp;Pfam_domain:PF00067&amp;Superfamily_domains:SSF48264</td>\n",
       "      <td>ENST00000360608.5:c.100C&gt;T</td>\n",
       "      <td>ENSP00000353820.5:p.Pro34Ser</td>\n",
       "      <td>A:0.2557</td>\n",
       "      <td>A:0.09</td>\n",
       "      <td>A:0.17</td>\n",
       "      <td>A:0.52</td>\n",
       "      <td>A:0.20</td>\n",
       "      <td>A:0.119536</td>\n",
       "      <td>A:0.223773</td>\n",
       "      <td>pathogenic</td>\n",
       "      <td>NaN</td>\n",
       "      <td>18547414&amp;18698231&amp;23133420&amp;21840870&amp;20174590&amp;18632250&amp;19833260&amp;22321460&amp;20601196&amp;20889555&amp;20847277&amp;24040574</td>\n",
       "      <td>NaN</td>\n",
       "      <td>NaN</td>\n",
       "      <td>NaN</td>\n",
       "      <td>NaN</td>\n",
       "      <td>NaN</td>\n",
       "      <td>NaN</td>\n",
       "      <td>NaN</td>\n",
       "      <td>NaN</td>\n",
       "      <td>0.151282</td>\n",
       "      <td>0.15129</td>\n",
       "      <td>0.590978</td>\n",
       "      <td>0.15635</td>\n",
       "      <td>0.249334</td>\n",
       "      <td>0.206849</td>\n",
       "      <td>0.180476</td>\n",
       "      <td>0.246687</td>\n",
       "      <td>22-CYP2D6-42526694-G-A</td>\n",
       "    </tr>\n",
       "    <tr>\n",
       "      <th>6686062</th>\n",
       "      <td>transcript_00003</td>\n",
       "      <td>22</td>\n",
       "      <td>42526694</td>\n",
       "      <td>G</td>\n",
       "      <td>A</td>\n",
       "      <td>rs1065852</td>\n",
       "      <td>26579229.53</td>\n",
       "      <td>PASS</td>\n",
       "      <td>snp</td>\n",
       "      <td>ts</td>\n",
       "      <td>24731</td>\n",
       "      <td>1180</td>\n",
       "      <td>1243</td>\n",
       "      <td>23642</td>\n",
       "      <td>4651</td>\n",
       "      <td>687</td>\n",
       "      <td>NaN</td>\n",
       "      <td>16502</td>\n",
       "      <td>3570</td>\n",
       "      <td>13286</td>\n",
       "      <td>151</td>\n",
       "      <td>2444</td>\n",
       "      <td>0.204</td>\n",
       "      <td>121076</td>\n",
       "      <td>7800</td>\n",
       "      <td>8216</td>\n",
       "      <td>95838</td>\n",
       "      <td>7870</td>\n",
       "      <td>4394</td>\n",
       "      <td>53286</td>\n",
       "      <td>730</td>\n",
       "      <td>13542</td>\n",
       "      <td>-0.532</td>\n",
       "      <td>NaN</td>\n",
       "      <td>-0.29</td>\n",
       "      <td>True</td>\n",
       "      <td>1848016</td>\n",
       "      <td>NaN</td>\n",
       "      <td>NaN</td>\n",
       "      <td>0.581</td>\n",
       "      <td>163.86</td>\n",
       "      <td>356.83</td>\n",
       "      <td>NaN</td>\n",
       "      <td>NaN</td>\n",
       "      <td>NaN</td>\n",
       "      <td>NaN</td>\n",
       "      <td>NaN</td>\n",
       "      <td>NaN</td>\n",
       "      <td>NaN</td>\n",
       "      <td>NaN</td>\n",
       "      <td>NaN</td>\n",
       "      <td>938</td>\n",
       "      <td>1045</td>\n",
       "      <td>1899</td>\n",
       "      <td>607</td>\n",
       "      <td>9990</td>\n",
       "      <td>107</td>\n",
       "      <td>1916</td>\n",
       "      <td>121</td>\n",
       "      <td>99</td>\n",
       "      <td>1376</td>\n",
       "      <td>40</td>\n",
       "      <td>1648</td>\n",
       "      <td>22</td>\n",
       "      <td>264</td>\n",
       "      <td>0.1207</td>\n",
       "      <td>NaN</td>\n",
       "      <td>NaN</td>\n",
       "      <td>52.64</td>\n",
       "      <td>0</td>\n",
       "      <td>0.102</td>\n",
       "      <td>1092</td>\n",
       "      <td>18.85</td>\n",
       "      <td>0.274</td>\n",
       "      <td>5.46</td>\n",
       "      <td>MQ</td>\n",
       "      <td>A</td>\n",
       "      <td>ENSG00000237037</td>\n",
       "      <td>ENST00000416037</td>\n",
       "      <td>Transcript</td>\n",
       "      <td>intron_variant&amp;non_coding_transcript_variant</td>\n",
       "      <td>NaN</td>\n",
       "      <td>NaN</td>\n",
       "      <td>NaN</td>\n",
       "      <td>NaN</td>\n",
       "      <td>NaN</td>\n",
       "      <td>rs1065852&amp;CM900081</td>\n",
       "      <td>1</td>\n",
       "      <td>NaN</td>\n",
       "      <td>1</td>\n",
       "      <td>NDUFA6-AS1</td>\n",
       "      <td>HGNC</td>\n",
       "      <td>45273</td>\n",
       "      <td>antisense</td>\n",
       "      <td>YES</td>\n",
       "      <td>NaN</td>\n",
       "      <td>NaN</td>\n",
       "      <td>NaN</td>\n",
       "      <td>NaN</td>\n",
       "      <td>NaN</td>\n",
       "      <td>NaN</td>\n",
       "      <td>NaN</td>\n",
       "      <td>NaN</td>\n",
       "      <td>5/6</td>\n",
       "      <td>NaN</td>\n",
       "      <td>ENST00000416037.2:n.1718+5282G&gt;A</td>\n",
       "      <td>NaN</td>\n",
       "      <td>A:0.2557</td>\n",
       "      <td>A:0.09</td>\n",
       "      <td>A:0.17</td>\n",
       "      <td>A:0.52</td>\n",
       "      <td>A:0.20</td>\n",
       "      <td>A:0.119536</td>\n",
       "      <td>A:0.223773</td>\n",
       "      <td>pathogenic</td>\n",
       "      <td>NaN</td>\n",
       "      <td>18547414&amp;18698231&amp;23133420&amp;21840870&amp;20174590&amp;18632250&amp;19833260&amp;22321460&amp;20601196&amp;20889555&amp;20847277&amp;24040574</td>\n",
       "      <td>NaN</td>\n",
       "      <td>NaN</td>\n",
       "      <td>NaN</td>\n",
       "      <td>NaN</td>\n",
       "      <td>NaN</td>\n",
       "      <td>NaN</td>\n",
       "      <td>NaN</td>\n",
       "      <td>NaN</td>\n",
       "      <td>0.151282</td>\n",
       "      <td>0.15129</td>\n",
       "      <td>0.590978</td>\n",
       "      <td>0.15635</td>\n",
       "      <td>0.249334</td>\n",
       "      <td>0.206849</td>\n",
       "      <td>0.180476</td>\n",
       "      <td>0.246687</td>\n",
       "      <td>22-NDUFA6-AS1-42526694-G-A</td>\n",
       "    </tr>\n",
       "  </tbody>\n",
       "</table>\n",
       "</div>"
      ],
      "text/plain": [
       "               Transcript CHROM       POS REF ALT         ID         QUAL  \\\n",
       "6686061  transcript_00001    22  42526694   G   A  rs1065852  26579229.53   \n",
       "6686062  transcript_00003    22  42526694   G   A  rs1065852  26579229.53   \n",
       "\n",
       "        FILTER var_type var_subtype     AC  AC_AFR  AC_AMR  AC_Adj  AC_EAS  \\\n",
       "6686061   PASS      snp          ts  24731    1180    1243   23642    4651   \n",
       "6686062   PASS      snp          ts  24731    1180    1243   23642    4651   \n",
       "\n",
       "         AC_FIN  AC_Hemi AC_Het  AC_Hom  AC_NFE  AC_OTH  AC_SAS     AF  \\\n",
       "6686061     687      NaN  16502    3570   13286     151    2444  0.204   \n",
       "6686062     687      NaN  16502    3570   13286     151    2444  0.204   \n",
       "\n",
       "             AN  AN_AFR  AN_AMR  AN_Adj  AN_EAS  AN_FIN  AN_NFE  AN_OTH  \\\n",
       "6686061  121076    7800    8216   95838    7870    4394   53286     730   \n",
       "6686062  121076    7800    8216   95838    7870    4394   53286     730   \n",
       "\n",
       "         AN_SAS  BaseQRankSum  CCC  ClippingRankSum    DB       DP  DS  END  \\\n",
       "6686061   13542        -0.532  NaN            -0.29  True  1848016 NaN  NaN   \n",
       "6686062   13542        -0.532  NaN            -0.29  True  1848016 NaN  NaN   \n",
       "\n",
       "            FS  GQ_MEAN  GQ_STDDEV  HWP  HaplotypeScore  Hemi_AFR  Hemi_AMR  \\\n",
       "6686061  0.581   163.86     356.83  NaN             NaN       NaN       NaN   \n",
       "6686062  0.581   163.86     356.83  NaN             NaN       NaN       NaN   \n",
       "\n",
       "         Hemi_EAS  Hemi_FIN  Hemi_NFE  Hemi_OTH  Hemi_SAS Het_AFR Het_AMR  \\\n",
       "6686061       NaN       NaN       NaN       NaN       NaN     938    1045   \n",
       "6686062       NaN       NaN       NaN       NaN       NaN     938    1045   \n",
       "\n",
       "        Het_EAS Het_FIN Het_NFE Het_OTH Het_SAS  Hom_AFR  Hom_AMR  Hom_EAS  \\\n",
       "6686061    1899     607    9990     107    1916      121       99     1376   \n",
       "6686062    1899     607    9990     107    1916      121       99     1376   \n",
       "\n",
       "         Hom_FIN  Hom_NFE  Hom_OTH  Hom_SAS  InbreedingCoeff  MLEAC  MLEAF  \\\n",
       "6686061       40     1648       22      264           0.1207    NaN    NaN   \n",
       "6686062       40     1648       22      264           0.1207    NaN    NaN   \n",
       "\n",
       "            MQ  MQ0  MQRankSum   NCC     QD  ReadPosRankSum  VQSLOD culprit  \\\n",
       "6686061  52.64    0      0.102  1092  18.85           0.274    5.46      MQ   \n",
       "6686062  52.64    0      0.102  1092  18.85           0.274    5.46      MQ   \n",
       "\n",
       "        Allele             Gene          Feature Feature_type  \\\n",
       "6686061      A  ENSG00000100197  ENST00000360608   Transcript   \n",
       "6686062      A  ENSG00000237037  ENST00000416037   Transcript   \n",
       "\n",
       "                                          Consequence cDNA_position  \\\n",
       "6686061                              missense_variant           215   \n",
       "6686062  intron_variant&non_coding_transcript_variant           NaN   \n",
       "\n",
       "        CDS_position Protein_position Amino_acids   Codons  \\\n",
       "6686061          100               34         P/S  Cca/Tca   \n",
       "6686062          NaN              NaN         NaN      NaN   \n",
       "\n",
       "         Existing_variation  ALLELE_NUM  DISTANCE  STRAND      SYMBOL  \\\n",
       "6686061  rs1065852&CM900081           1       NaN      -1      CYP2D6   \n",
       "6686062  rs1065852&CM900081           1       NaN       1  NDUFA6-AS1   \n",
       "\n",
       "        SYMBOL_SOURCE  HGNC_ID         BIOTYPE CANONICAL         CCDS  \\\n",
       "6686061          HGNC     2625  protein_coding       YES  CCDS46721.1   \n",
       "6686062          HGNC    45273       antisense       YES          NaN   \n",
       "\n",
       "                    ENSP SWISSPROT                     TREMBL        UNIPARC  \\\n",
       "6686061  ENSP00000353820       NaN  Q6NWU0_HUMAN&Q007T9_HUMAN  UPI0000157756   \n",
       "6686062              NaN       NaN                        NaN            NaN   \n",
       "\n",
       "                      SIFT                 PolyPhen EXON INTRON  \\\n",
       "6686061  deleterious(0.03)  possibly_damaging(0.89)  1/9    NaN   \n",
       "6686062                NaN                      NaN  NaN    5/6   \n",
       "\n",
       "                                                                           DOMAINS  \\\n",
       "6686061  Low_complexity_(Seg):Seg&Pfam_domain:PF00067&Superfamily_domains:SSF48264   \n",
       "6686062                                                                        NaN   \n",
       "\n",
       "                                    HGVSc                         HGVSp  \\\n",
       "6686061        ENST00000360608.5:c.100C>T  ENSP00000353820.5:p.Pro34Ser   \n",
       "6686062  ENST00000416037.2:n.1718+5282G>A                           NaN   \n",
       "\n",
       "             GMAF AFR_MAF AMR_MAF ASN_MAF EUR_MAF      AA_MAF      EA_MAF  \\\n",
       "6686061  A:0.2557  A:0.09  A:0.17  A:0.52  A:0.20  A:0.119536  A:0.223773   \n",
       "6686062  A:0.2557  A:0.09  A:0.17  A:0.52  A:0.20  A:0.119536  A:0.223773   \n",
       "\n",
       "           CLIN_SIG SOMATIC  \\\n",
       "6686061  pathogenic     NaN   \n",
       "6686062  pathogenic     NaN   \n",
       "\n",
       "                                                                                                              PUBMED  \\\n",
       "6686061  18547414&18698231&23133420&21840870&20174590&18632250&19833260&22321460&20601196&20889555&20847277&24040574   \n",
       "6686062  18547414&18698231&23133420&21840870&20174590&18632250&19833260&22321460&20601196&20889555&20847277&24040574   \n",
       "\n",
       "         MOTIF_NAME  MOTIF_POS  HIGH_INF_POS  MOTIF_SCORE_CHANGE LoF_info  \\\n",
       "6686061         NaN        NaN           NaN                 NaN      NaN   \n",
       "6686062         NaN        NaN           NaN                 NaN      NaN   \n",
       "\n",
       "        LoF_flags LoF_filter  LoF  COMP.AF_AFR  COMP.AF_AMR  COMP.AF_EAS  \\\n",
       "6686061       NaN        NaN  NaN     0.151282      0.15129     0.590978   \n",
       "6686062       NaN        NaN  NaN     0.151282      0.15129     0.590978   \n",
       "\n",
       "         COMP.AF_FIN  COMP.AF_NFE  COMP.AF_OTH  COMP.AF_SAS  COMP.AF_Adj  \\\n",
       "6686061      0.15635     0.249334     0.206849     0.180476     0.246687   \n",
       "6686062      0.15635     0.249334     0.206849     0.180476     0.246687   \n",
       "\n",
       "                            var_uid  \n",
       "6686061      22-CYP2D6-42526694-G-A  \n",
       "6686062  22-NDUFA6-AS1-42526694-G-A  "
      ]
     },
     "execution_count": 422,
     "metadata": {},
     "output_type": "execute_result"
    }
   ],
   "source": [
    "variants.loc[variants.ID == \"rs1065852\"]"
   ]
  },
  {
   "cell_type": "markdown",
   "metadata": {
    "deletable": true,
    "editable": true
   },
   "source": [
    "## TPMT"
   ]
  },
  {
   "cell_type": "code",
   "execution_count": 26,
   "metadata": {
    "collapsed": false,
    "deletable": true,
    "editable": true,
    "run_control": {
     "frozen": false,
     "read_only": false
    }
   },
   "outputs": [],
   "source": [
    "TPMT_comparison = {'Caucasian': dict(\n",
    "    Rs1800462_AFCPIC=0.0019, Rs1800462_AFExAC=0.0020,\n",
    "    Rs1800460_AFCPIC=0.0359, Rs1800460_AFExAC=0.0363,\n",
    "    Rs1142345_AFCPIC=0.0396, Rs1142345_AFExAC=0.0401),\n",
    "    'South American': dict(\n",
    "    Rs1800462_AFCPIC=0.0088, Rs1800462_AFExAC=0.0024,\n",
    "    Rs1800460_AFCPIC=0.0292, Rs1800460_AFExAC=0.0445,\n",
    "    Rs1142345_AFCPIC=0.0379, Rs1142345_AFExAC=0.0481),\n",
    "    'Mexican': dict(\n",
    "    Rs1800462_AFCPIC=0.0059, Rs1800462_AFExAC=0.0024,\n",
    "    Rs1800460_AFCPIC=0.0602, Rs1800460_AFExAC=0.0445,\n",
    "    Rs1142345_AFCPIC=0.0622, Rs1142345_AFExAC=0.0481),\n",
    "    'African': dict(\n",
    "    Rs1800462_AFCPIC=0.0009, Rs1800462_AFExAC=0.0005,\n",
    "    Rs1800460_AFCPIC=0.0022, Rs1800460_AFExAC=0.0069,\n",
    "    Rs1142345_AFCPIC=0.0502, Rs1142345_AFExAC=0.0541),\n",
    "    'East-Asian': dict(\n",
    "    Rs1800462_AFCPIC=0.0, Rs1800462_AFExAC=0.0,\n",
    "    Rs1800460_AFCPIC=0.0001, Rs1800460_AFExAC=0.0001,\n",
    "    Rs1142345_AFCPIC=0.0158, Rs1142345_AFExAC=0.0132),\n",
    "    'South-Asian': dict(\n",
    "    Rs1800462_AFCPIC=0.0, Rs1800462_AFExAC=0.0,\n",
    "    Rs1800460_AFCPIC=0.0001, Rs1800460_AFExAC=0.0062,\n",
    "    Rs1142345_AFCPIC=0.0158, Rs1142345_AFExAC=0.0179)}\n",
    "\n",
    "snps = [\"Rs1800462\", \"Rs1800460\", \"Rs1142345\"]\n",
    "#AFExAC=0.0062(SAS)\n",
    "#AFExAC=0.0179 (SAS)/"
   ]
  },
  {
   "cell_type": "code",
   "execution_count": 28,
   "metadata": {
    "collapsed": true,
    "deletable": true,
    "editable": true,
    "run_control": {
     "frozen": false,
     "read_only": false
    }
   },
   "outputs": [],
   "source": [
    "cpic, exac = [], []\n",
    "for k in TPMT_comparison.keys():\n",
    "    for snp in snps:\n",
    "        cpic.append(TPMT_comparison[k][snp + \"_AFCPIC\"])\n",
    "        exac.append(TPMT_comparison[k][snp + \"_AFExAC\"])\n",
    "    "
   ]
  },
  {
   "cell_type": "code",
   "execution_count": 29,
   "metadata": {
    "collapsed": false,
    "deletable": true,
    "editable": true,
    "run_control": {
     "frozen": false,
     "read_only": false
    }
   },
   "outputs": [
    {
     "data": {
      "text/plain": [
       "(0.94288377144570401, 4.7569030960104423e-09)"
      ]
     },
     "execution_count": 29,
     "metadata": {},
     "output_type": "execute_result"
    }
   ],
   "source": [
    "st.pearsonr(cpic, exac)"
   ]
  },
  {
   "cell_type": "code",
   "execution_count": 30,
   "metadata": {
    "collapsed": false,
    "deletable": true,
    "editable": true,
    "run_control": {
     "frozen": false,
     "read_only": false
    }
   },
   "outputs": [
    {
     "data": {
      "text/plain": [
       "SpearmanrResult(correlation=0.93215962784416717, pvalue=1.8208888400370619e-08)"
      ]
     },
     "execution_count": 30,
     "metadata": {},
     "output_type": "execute_result"
    }
   ],
   "source": [
    "st.spearmanr(cpic, exac)"
   ]
  },
  {
   "cell_type": "code",
   "execution_count": null,
   "metadata": {
    "collapsed": true,
    "deletable": true,
    "editable": true,
    "run_control": {
     "frozen": false,
     "read_only": false
    }
   },
   "outputs": [],
   "source": []
  },
  {
   "cell_type": "markdown",
   "metadata": {
    "deletable": true,
    "editable": true
   },
   "source": [
    "## CYP2D6"
   ]
  },
  {
   "cell_type": "code",
   "execution_count": 34,
   "metadata": {
    "collapsed": false,
    "deletable": true,
    "editable": true,
    "run_control": {
     "frozen": false,
     "read_only": false
    }
   },
   "outputs": [],
   "source": [
    "CYP2D6_snps = ['rs16947', 'rs1135840', 'rs3892097', 'rs1065852']\n",
    "CYP2D6_comparison = {'Caucasian': dict(\n",
    "    rs16947_AFCPIC=0.2758, rs16947_AFExAC=0.3429,\n",
    "    rs1135840_AFCPIC=0.2758, rs1135840_AFExAC=0.4482,\n",
    "    rs3892097_AFCPIC=0.1823, rs3892097_AFExAC=0.2308,\n",
    "    rs1065852_AFCPIC=0.2121, rs1065852_AFExAC=0.2493),\n",
    "    'Americas': dict(\n",
    "    rs16947_AFCPIC=0.2212, rs16947_AFExAC=0.2486,\n",
    "    rs1135840_AFCPIC=0.2212, rs1135840_AFExAC=0.6368,\n",
    "    rs3892097_AFCPIC=0.1078, rs3892097_AFExAC=0.1566,\n",
    "    rs1065852_AFCPIC=0.1337, rs1065852_AFExAC=0.1513),\n",
    "    'African': dict(\n",
    "    rs16947_AFCPIC=0.1967, rs16947_AFExAC=0.5198,\n",
    "    rs1135840_AFCPIC=0.1967, rs1135840_AFExAC=0.3618,\n",
    "    rs3892097_AFCPIC=0.0334, rs3892097_AFExAC=0.1190,\n",
    "    rs1065852_AFCPIC=0.4002, rs1065852_AFExAC=0.1513),\n",
    "    'African-American': dict(\n",
    "    rs16947_AFCPIC=0.1561, rs16947_AFExAC=0.5198,\n",
    "    rs1135840_AFCPIC=0.1561, rs1135840_AFExAC=0.3618,\n",
    "    rs3892097_AFCPIC=0.0639, rs3892097_AFExAC=0.1190,\n",
    "    rs1065852_AFCPIC=0.1046, rs1065852_AFExAC=0.1513),\n",
    "    'East Asian': dict(\n",
    "    rs16947_AFCPIC=0.1264, rs16947_AFExAC=0.1485,\n",
    "    rs1135840_AFCPIC=0.1264, rs1135840_AFExAC=0.2987,\n",
    "    rs3892097_AFCPIC=0.0061, rs3892097_AFExAC=0.0042,\n",
    "    rs1065852_AFCPIC=0.4336, rs1065852_AFExAC=0.5910),\n",
    "    'South/Central Asian': dict(\n",
    "    rs16947_AFCPIC=0.29878, rs16947_AFExAC=0.3801,\n",
    "    rs1135840_AFCPIC=0.29878, rs1135840_AFExAC=0.480789,\n",
    "    rs3892097_AFCPIC=0.0863, rs3892097_AFExAC=0.1160,\n",
    "    rs1065852_AFCPIC=0.2638, rs1065852_AFExAC=0.1805)}\n"
   ]
  },
  {
   "cell_type": "code",
   "execution_count": 35,
   "metadata": {
    "collapsed": false,
    "deletable": true,
    "editable": true,
    "run_control": {
     "frozen": false,
     "read_only": false
    }
   },
   "outputs": [],
   "source": [
    "cyp2d6_cpic, cyp2d6_exac = [], []\n",
    "for k in CYP2D6_comparison.keys():\n",
    "    for snp in CYP2D6_snps:\n",
    "        cyp2d6_cpic.append(CYP2D6_comparison[k][snp + \"_AFCPIC\"])\n",
    "        cyp2d6_exac.append(CYP2D6_comparison[k][snp + \"_AFExAC\"])\n",
    "    "
   ]
  },
  {
   "cell_type": "code",
   "execution_count": 36,
   "metadata": {
    "collapsed": false,
    "deletable": true,
    "editable": true,
    "run_control": {
     "frozen": false,
     "read_only": false
    }
   },
   "outputs": [
    {
     "data": {
      "text/plain": [
       "(0.57492157958573853, 0.0032950220321590904)"
      ]
     },
     "execution_count": 36,
     "metadata": {},
     "output_type": "execute_result"
    }
   ],
   "source": [
    "st.pearsonr(cyp2d6_cpic, cyp2d6_exac)"
   ]
  },
  {
   "cell_type": "code",
   "execution_count": 37,
   "metadata": {
    "collapsed": false,
    "deletable": true,
    "editable": true,
    "run_control": {
     "frozen": false,
     "read_only": false
    }
   },
   "outputs": [
    {
     "data": {
      "text/plain": [
       "SpearmanrResult(correlation=0.67756705338071088, pvalue=0.00027531323151750684)"
      ]
     },
     "execution_count": 37,
     "metadata": {},
     "output_type": "execute_result"
    }
   ],
   "source": [
    "st.spearmanr(cyp2d6_cpic, cyp2d6_exac)"
   ]
  },
  {
   "cell_type": "code",
   "execution_count": null,
   "metadata": {
    "collapsed": true,
    "deletable": true,
    "editable": true,
    "run_control": {
     "frozen": false,
     "read_only": false
    }
   },
   "outputs": [],
   "source": []
  }
 ],
 "metadata": {
  "hide_input": false,
  "kernelspec": {
   "display_name": "Python 2",
   "language": "python",
   "name": "python2"
  },
  "language_info": {
   "codemirror_mode": {
    "name": "ipython",
    "version": 2
   },
   "file_extension": ".py",
   "mimetype": "text/x-python",
   "name": "python",
   "nbconvert_exporter": "python",
   "pygments_lexer": "ipython2",
   "version": "2.7.12"
  },
  "toc": {
   "toc_cell": false,
   "toc_number_sections": true,
   "toc_threshold": 6,
   "toc_window_display": false
  }
 },
 "nbformat": 4,
 "nbformat_minor": 0
}
